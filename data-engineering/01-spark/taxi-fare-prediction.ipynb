{
 "cells": [
  {
   "cell_type": "code",
   "execution_count": 1,
   "id": "6c89f375",
   "metadata": {},
   "outputs": [],
   "source": [
    "from pyspark.sql import SparkSession"
   ]
  },
  {
   "cell_type": "code",
   "execution_count": 3,
   "id": "14ef5549",
   "metadata": {},
   "outputs": [],
   "source": [
    "MAX_MEMORY=\"5g\"\n",
    "spark = SparkSession.builder.appName(\"taxi-fare-prediciton\")\\\n",
    "                .config(\"spark.executor.memory\", MAX_MEMORY)\\\n",
    "                .config(\"spark.driver.memory\", MAX_MEMORY)\\\n",
    "                .getOrCreate()"
   ]
  },
  {
   "cell_type": "code",
   "execution_count": 4,
   "id": "528e40d4",
   "metadata": {},
   "outputs": [],
   "source": [
    "trip_files = \"/Users/keon/fastcampus/data-engineering/01-spark/data/trips/*\""
   ]
  },
  {
   "cell_type": "code",
   "execution_count": 5,
   "id": "2e0760d9",
   "metadata": {},
   "outputs": [],
   "source": [
    "trips_df = spark.read.csv(f\"file:///{trip_files}\", inferSchema=True, header=True)"
   ]
  },
  {
   "cell_type": "code",
   "execution_count": 6,
   "id": "2e1392e4",
   "metadata": {},
   "outputs": [
    {
     "name": "stdout",
     "output_type": "stream",
     "text": [
      "root\n",
      " |-- VendorID: integer (nullable = true)\n",
      " |-- tpep_pickup_datetime: string (nullable = true)\n",
      " |-- tpep_dropoff_datetime: string (nullable = true)\n",
      " |-- passenger_count: integer (nullable = true)\n",
      " |-- trip_distance: double (nullable = true)\n",
      " |-- RatecodeID: integer (nullable = true)\n",
      " |-- store_and_fwd_flag: string (nullable = true)\n",
      " |-- PULocationID: integer (nullable = true)\n",
      " |-- DOLocationID: integer (nullable = true)\n",
      " |-- payment_type: integer (nullable = true)\n",
      " |-- fare_amount: double (nullable = true)\n",
      " |-- extra: double (nullable = true)\n",
      " |-- mta_tax: double (nullable = true)\n",
      " |-- tip_amount: double (nullable = true)\n",
      " |-- tolls_amount: double (nullable = true)\n",
      " |-- improvement_surcharge: double (nullable = true)\n",
      " |-- total_amount: double (nullable = true)\n",
      " |-- congestion_surcharge: double (nullable = true)\n",
      "\n"
     ]
    }
   ],
   "source": [
    "trips_df.printSchema()"
   ]
  },
  {
   "cell_type": "code",
   "execution_count": 7,
   "id": "005be675",
   "metadata": {},
   "outputs": [],
   "source": [
    "trips_df.createOrReplaceTempView(\"trips\")"
   ]
  },
  {
   "cell_type": "code",
   "execution_count": 8,
   "id": "ba12a38e",
   "metadata": {},
   "outputs": [],
   "source": [
    "query = \"\"\"\n",
    "SELECT \n",
    "    trip_distance,\n",
    "    total_amount\n",
    "FROM\n",
    "    trips\n",
    "WHERE\n",
    "    total_amount < 5000\n",
    "    AND total_amount > 0\n",
    "    AND trip_distance > 0\n",
    "    AND trip_distance < 500\n",
    "    AND passenger_count < 4\n",
    "    AND TO_DATE(tpep_pickup_datetime) >= '2021-01-01'\n",
    "    AND TO_DATE(tpep_pickup_datetime) < '2021-08-01'\n",
    "\"\"\""
   ]
  },
  {
   "cell_type": "code",
   "execution_count": 9,
   "id": "479650c2",
   "metadata": {},
   "outputs": [],
   "source": [
    "data_df = spark.sql(query)\n",
    "data_df.createOrReplaceTempView(\"data\")"
   ]
  },
  {
   "cell_type": "code",
   "execution_count": 10,
   "id": "97e80528",
   "metadata": {},
   "outputs": [
    {
     "name": "stdout",
     "output_type": "stream",
     "text": [
      "+-------------+------------+\n",
      "|trip_distance|total_amount|\n",
      "+-------------+------------+\n",
      "|          2.1|        11.8|\n",
      "|          0.2|         4.3|\n",
      "|         14.7|       51.95|\n",
      "|         10.6|       36.35|\n",
      "|         4.94|       24.36|\n",
      "|          1.6|       14.15|\n",
      "|          4.1|        17.3|\n",
      "|          5.7|        21.8|\n",
      "|          9.1|        28.8|\n",
      "|          2.7|       18.95|\n",
      "|         6.11|        24.3|\n",
      "|         1.21|       10.79|\n",
      "|          7.4|       33.92|\n",
      "|         1.01|        10.3|\n",
      "|         0.73|       12.09|\n",
      "|         1.17|       12.36|\n",
      "|         0.78|        9.96|\n",
      "|         1.66|        12.3|\n",
      "|         0.93|         9.3|\n",
      "|         1.16|       11.84|\n",
      "+-------------+------------+\n",
      "only showing top 20 rows\n",
      "\n"
     ]
    }
   ],
   "source": [
    "data_df.show()"
   ]
  },
  {
   "cell_type": "code",
   "execution_count": 12,
   "id": "c54120dc",
   "metadata": {},
   "outputs": [
    {
     "name": "stdout",
     "output_type": "stream",
     "text": [
      "+-------+------------------+------------------+\n",
      "|summary|     trip_distance|      total_amount|\n",
      "+-------+------------------+------------------+\n",
      "|  count|          13126040|          13126040|\n",
      "|   mean|2.8820930920521075|17.973158757869456|\n",
      "| stddev|3.8203064806711784|12.975904680786615|\n",
      "|    min|              0.01|              0.01|\n",
      "|    max|             475.5|            4973.3|\n",
      "+-------+------------------+------------------+\n",
      "\n"
     ]
    }
   ],
   "source": [
    "data_df.describe().show()"
   ]
  },
  {
   "cell_type": "code",
   "execution_count": 13,
   "id": "35dcbacb",
   "metadata": {},
   "outputs": [],
   "source": [
    "train_df, test_df = data_df.randomSplit([0.8, 0.2], seed=1)"
   ]
  },
  {
   "cell_type": "code",
   "execution_count": 14,
   "id": "b9be6e2b",
   "metadata": {},
   "outputs": [
    {
     "name": "stdout",
     "output_type": "stream",
     "text": [
      "10500134\n",
      "2625906\n"
     ]
    }
   ],
   "source": [
    "print(train_df.count())\n",
    "print(test_df.count())"
   ]
  },
  {
   "cell_type": "code",
   "execution_count": 15,
   "id": "19f9e48c",
   "metadata": {},
   "outputs": [],
   "source": [
    "from pyspark.ml.feature import VectorAssembler"
   ]
  },
  {
   "cell_type": "code",
   "execution_count": 17,
   "id": "520a8620",
   "metadata": {},
   "outputs": [],
   "source": [
    "vassembler = VectorAssembler(inputCols=[\"trip_distance\"], outputCol=\"features\")"
   ]
  },
  {
   "cell_type": "code",
   "execution_count": 18,
   "id": "59e84ad1",
   "metadata": {},
   "outputs": [],
   "source": [
    "vtrain_df = vassembler.transform(train_df)"
   ]
  },
  {
   "cell_type": "code",
   "execution_count": 19,
   "id": "33a9654f",
   "metadata": {},
   "outputs": [
    {
     "name": "stdout",
     "output_type": "stream",
     "text": [
      "+-------------+------------+--------+\n",
      "|trip_distance|total_amount|features|\n",
      "+-------------+------------+--------+\n",
      "|         0.01|         3.3|  [0.01]|\n",
      "|         0.01|         3.3|  [0.01]|\n",
      "|         0.01|         3.3|  [0.01]|\n",
      "|         0.01|         3.3|  [0.01]|\n",
      "|         0.01|         3.3|  [0.01]|\n",
      "|         0.01|         3.3|  [0.01]|\n",
      "|         0.01|         3.3|  [0.01]|\n",
      "|         0.01|         3.3|  [0.01]|\n",
      "|         0.01|         3.3|  [0.01]|\n",
      "|         0.01|         3.3|  [0.01]|\n",
      "|         0.01|         3.3|  [0.01]|\n",
      "|         0.01|         3.3|  [0.01]|\n",
      "|         0.01|         3.3|  [0.01]|\n",
      "|         0.01|         3.3|  [0.01]|\n",
      "|         0.01|         3.3|  [0.01]|\n",
      "|         0.01|         3.3|  [0.01]|\n",
      "|         0.01|         3.3|  [0.01]|\n",
      "|         0.01|         3.3|  [0.01]|\n",
      "|         0.01|         3.3|  [0.01]|\n",
      "|         0.01|         3.3|  [0.01]|\n",
      "+-------------+------------+--------+\n",
      "only showing top 20 rows\n",
      "\n"
     ]
    }
   ],
   "source": [
    "vtrain_df.show()"
   ]
  },
  {
   "cell_type": "code",
   "execution_count": 20,
   "id": "bba4e6d5",
   "metadata": {},
   "outputs": [],
   "source": [
    "from pyspark.ml.regression import LinearRegression"
   ]
  },
  {
   "cell_type": "code",
   "execution_count": 22,
   "id": "87db9c13",
   "metadata": {},
   "outputs": [],
   "source": [
    "lr = LinearRegression(\n",
    "    maxIter=50,\n",
    "    labelCol=\"total_amount\",\n",
    "    featuresCol=\"features\"\n",
    ")"
   ]
  },
  {
   "cell_type": "code",
   "execution_count": 23,
   "id": "15504cb1",
   "metadata": {},
   "outputs": [],
   "source": [
    "model = lr.fit(vtrain_df)"
   ]
  },
  {
   "cell_type": "code",
   "execution_count": 24,
   "id": "bdbb608c",
   "metadata": {},
   "outputs": [],
   "source": [
    "vtest_df = vassembler.transform(test_df)"
   ]
  },
  {
   "cell_type": "code",
   "execution_count": 25,
   "id": "7a26b563",
   "metadata": {},
   "outputs": [],
   "source": [
    "prediction = model.transform(vtest_df)"
   ]
  },
  {
   "cell_type": "code",
   "execution_count": 26,
   "id": "74a81829",
   "metadata": {},
   "outputs": [
    {
     "name": "stdout",
     "output_type": "stream",
     "text": [
      "+-------------+------------+--------+----------------+\n",
      "|trip_distance|total_amount|features|      prediction|\n",
      "+-------------+------------+--------+----------------+\n",
      "|         0.01|         3.3|  [0.01]|9.41325139745787|\n",
      "|         0.01|         3.3|  [0.01]|9.41325139745787|\n",
      "|         0.01|         3.3|  [0.01]|9.41325139745787|\n",
      "|         0.01|         3.3|  [0.01]|9.41325139745787|\n",
      "|         0.01|         3.3|  [0.01]|9.41325139745787|\n",
      "|         0.01|         3.3|  [0.01]|9.41325139745787|\n",
      "|         0.01|         3.3|  [0.01]|9.41325139745787|\n",
      "|         0.01|         3.3|  [0.01]|9.41325139745787|\n",
      "|         0.01|         3.3|  [0.01]|9.41325139745787|\n",
      "|         0.01|         3.3|  [0.01]|9.41325139745787|\n",
      "|         0.01|         3.3|  [0.01]|9.41325139745787|\n",
      "|         0.01|         3.3|  [0.01]|9.41325139745787|\n",
      "|         0.01|         3.3|  [0.01]|9.41325139745787|\n",
      "|         0.01|         3.3|  [0.01]|9.41325139745787|\n",
      "|         0.01|         3.8|  [0.01]|9.41325139745787|\n",
      "|         0.01|         3.8|  [0.01]|9.41325139745787|\n",
      "|         0.01|         3.8|  [0.01]|9.41325139745787|\n",
      "|         0.01|         3.8|  [0.01]|9.41325139745787|\n",
      "|         0.01|         3.8|  [0.01]|9.41325139745787|\n",
      "|         0.01|         3.8|  [0.01]|9.41325139745787|\n",
      "+-------------+------------+--------+----------------+\n",
      "only showing top 20 rows\n",
      "\n"
     ]
    }
   ],
   "source": [
    "prediction.show()"
   ]
  },
  {
   "cell_type": "code",
   "execution_count": 28,
   "id": "14e0be60",
   "metadata": {},
   "outputs": [
    {
     "data": {
      "text/plain": [
       "6.264517742357578"
      ]
     },
     "execution_count": 28,
     "metadata": {},
     "output_type": "execute_result"
    }
   ],
   "source": [
    "model.summary.rootMeanSquaredError"
   ]
  },
  {
   "cell_type": "code",
   "execution_count": 29,
   "id": "0988cd09",
   "metadata": {},
   "outputs": [
    {
     "data": {
      "text/plain": [
       "0.7677192474949946"
      ]
     },
     "execution_count": 29,
     "metadata": {},
     "output_type": "execute_result"
    }
   ],
   "source": [
    "model.summary.r2"
   ]
  },
  {
   "cell_type": "code",
   "execution_count": 34,
   "id": "ad5e86ab",
   "metadata": {},
   "outputs": [],
   "source": [
    "from pyspark.sql.types import DoubleType\n",
    "distance_list = [1.1]\n",
    "distance_df = spark.createDataFrame(distance_list, DoubleType()).toDF(\"trip_distance\")"
   ]
  },
  {
   "cell_type": "code",
   "execution_count": 35,
   "id": "ac91a7a3",
   "metadata": {},
   "outputs": [
    {
     "name": "stdout",
     "output_type": "stream",
     "text": [
      "+-------------+\n",
      "|trip_distance|\n",
      "+-------------+\n",
      "|          1.1|\n",
      "|          5.5|\n",
      "|         10.5|\n",
      "|         30.0|\n",
      "+-------------+\n",
      "\n"
     ]
    }
   ],
   "source": [
    "distance_df.show()"
   ]
  },
  {
   "cell_type": "code",
   "execution_count": 36,
   "id": "1b6742a2",
   "metadata": {},
   "outputs": [],
   "source": [
    "vdistance_df = vassembler.transform(distance_df)"
   ]
  },
  {
   "cell_type": "code",
   "execution_count": 37,
   "id": "1464f383",
   "metadata": {},
   "outputs": [
    {
     "name": "stdout",
     "output_type": "stream",
     "text": [
      "+-------------+--------+\n",
      "|trip_distance|features|\n",
      "+-------------+--------+\n",
      "|          1.1|   [1.1]|\n",
      "|          5.5|   [5.5]|\n",
      "|         10.5|  [10.5]|\n",
      "|         30.0|  [30.0]|\n",
      "+-------------+--------+\n",
      "\n"
     ]
    }
   ],
   "source": [
    "vdistance_df.show()"
   ]
  },
  {
   "cell_type": "code",
   "execution_count": 39,
   "id": "24d256c3",
   "metadata": {},
   "outputs": [
    {
     "name": "stdout",
     "output_type": "stream",
     "text": [
      "+-------------+--------+------------------+\n",
      "|trip_distance|features|        prediction|\n",
      "+-------------+--------+------------------+\n",
      "|          1.1|   [1.1]|12.661823820190449|\n",
      "|          5.5|   [5.5]|25.775327178010023|\n",
      "|         10.5|  [10.5]|40.677035539168635|\n",
      "|         30.0|  [30.0]| 98.79369814768721|\n",
      "+-------------+--------+------------------+\n",
      "\n"
     ]
    }
   ],
   "source": [
    "model.transform(vdistance_df).show()"
   ]
  },
  {
   "cell_type": "code",
   "execution_count": null,
   "id": "ed4d8943",
   "metadata": {},
   "outputs": [],
   "source": []
  }
 ],
 "metadata": {
  "kernelspec": {
   "display_name": "Python 3",
   "language": "python",
   "name": "python3"
  },
  "language_info": {
   "codemirror_mode": {
    "name": "ipython",
    "version": 3
   },
   "file_extension": ".py",
   "mimetype": "text/x-python",
   "name": "python",
   "nbconvert_exporter": "python",
   "pygments_lexer": "ipython3",
   "version": "3.8.8"
  }
 },
 "nbformat": 4,
 "nbformat_minor": 5
}
