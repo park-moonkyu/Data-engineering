{
 "cells": [
  {
   "cell_type": "code",
   "execution_count": 1,
   "id": "6c89f375",
   "metadata": {},
   "outputs": [],
   "source": [
    "from pyspark.sql import SparkSession"
   ]
  },
  {
   "cell_type": "code",
   "execution_count": 2,
   "id": "14ef5549",
   "metadata": {},
   "outputs": [],
   "source": [
    "MAX_MEMORY=\"5g\"\n",
    "spark = SparkSession.builder.appName(\"taxi-fare-prediciton\")\\\n",
    "                .config(\"spark.executor.memory\", MAX_MEMORY)\\\n",
    "                .config(\"spark.driver.memory\", MAX_MEMORY)\\\n",
    "                .getOrCreate()"
   ]
  },
  {
   "cell_type": "code",
   "execution_count": 3,
   "id": "1a308b57",
   "metadata": {},
   "outputs": [],
   "source": [
    "data_dir = \"/Users/keon/fastcampus/data-engineering/01-spark/data/\""
   ]
  },
  {
   "cell_type": "code",
   "execution_count": 4,
   "id": "193f3160",
   "metadata": {},
   "outputs": [],
   "source": [
    "train_df = spark.read.parquet(f\"{data_dir}/train/\")\n",
    "test_df = spark.read.parquet(f\"{data_dir}/test/\")"
   ]
  },
  {
   "cell_type": "code",
   "execution_count": 6,
   "id": "f1f7037c",
   "metadata": {},
   "outputs": [],
   "source": [
    "toy_df = train_df.sample(False, 0.1, seed=1)"
   ]
  },
  {
   "cell_type": "code",
   "execution_count": 7,
   "id": "7b1499b7",
   "metadata": {},
   "outputs": [
    {
     "name": "stdout",
     "output_type": "stream",
     "text": [
      "root\n",
      " |-- passenger_count: integer (nullable = true)\n",
      " |-- pickup_location_id: integer (nullable = true)\n",
      " |-- dropoff_location_id: integer (nullable = true)\n",
      " |-- trip_distance: double (nullable = true)\n",
      " |-- pickup_time: integer (nullable = true)\n",
      " |-- day_of_week: string (nullable = true)\n",
      " |-- total_amount: double (nullable = true)\n",
      "\n"
     ]
    }
   ],
   "source": [
    "toy_df.printSchema()"
   ]
  },
  {
   "cell_type": "code",
   "execution_count": 8,
   "id": "b197ea72",
   "metadata": {},
   "outputs": [],
   "source": [
    "from pyspark.ml.feature import OneHotEncoder, StringIndexer\n",
    "\n",
    "cat_feats = [\n",
    "    \"pickup_location_id\",\n",
    "    \"dropoff_location_id\",\n",
    "    \"day_of_week\"\n",
    "]\n",
    "\n",
    "stages = []\n",
    "\n",
    "for c in cat_feats:\n",
    "    cat_indexer = StringIndexer(inputCol=c, outputCol= c + \"_idx\").setHandleInvalid(\"keep\")\n",
    "    onehot_encoder = OneHotEncoder(inputCols=[cat_indexer.getOutputCol()], outputCols=[c + \"_onehot\"])\n",
    "    stages += [cat_indexer, onehot_encoder]"
   ]
  },
  {
   "cell_type": "code",
   "execution_count": 9,
   "id": "b3d1a552",
   "metadata": {},
   "outputs": [],
   "source": [
    "from pyspark.ml.feature import VectorAssembler, StandardScaler\n",
    "\n",
    "num_feats = [\n",
    "    \"passenger_count\",\n",
    "    \"trip_distance\",\n",
    "    \"pickup_time\"\n",
    "]\n",
    "\n",
    "for n in num_feats:\n",
    "    num_assembler = VectorAssembler(inputCols=[n], outputCol= n + \"_vecotr\")\n",
    "    num_scaler = StandardScaler(inputCol=num_assembler.getOutputCol(), outputCol= n + \"_scaled\")\n",
    "    stages += [num_assembler, num_scaler]"
   ]
  },
  {
   "cell_type": "code",
   "execution_count": 10,
   "id": "6c9e35cd",
   "metadata": {},
   "outputs": [],
   "source": [
    "assembler_inputs = [c + \"_onehot\" for c in cat_feats] + [n + \"_scaled\" for n in num_feats]\n",
    "assembler = VectorAssembler(inputCols=assembler_inputs, outputCol=\"feature_vector\")\n",
    "stages += [assembler]"
   ]
  },
  {
   "cell_type": "markdown",
   "id": "f144a456",
   "metadata": {},
   "source": [
    "## Hyperparameter Tuning"
   ]
  },
  {
   "cell_type": "code",
   "execution_count": 12,
   "id": "4abb1bfc",
   "metadata": {},
   "outputs": [],
   "source": [
    "from pyspark.ml import Pipeline\n",
    "from pyspark.ml.regression import LinearRegression\n",
    "from pyspark.ml.tuning import CrossValidator, ParamGridBuilder\n",
    "from pyspark.ml.evaluation import RegressionEvaluator\n",
    "\n",
    "lr = LinearRegression(\n",
    "    maxIter=30,\n",
    "    solver=\"normal\",\n",
    "    labelCol='total_amount',\n",
    "    featuresCol='feature_vector'\n",
    ")\n",
    "\n",
    "cv_stages = stages + [lr]"
   ]
  },
  {
   "cell_type": "code",
   "execution_count": 13,
   "id": "9e243aaf",
   "metadata": {},
   "outputs": [],
   "source": [
    "cv_pipeline = Pipeline(stages=cv_stages)"
   ]
  },
  {
   "cell_type": "code",
   "execution_count": 14,
   "id": "4401c160",
   "metadata": {},
   "outputs": [],
   "source": [
    "param_grid = ParamGridBuilder()\\\n",
    "                .addGrid(lr.elasticNetParam, [0.1, 0.2, 0.3, 0.4, 0.5])\\\n",
    "                .addGrid(lr.regParam, [0.01, 0.02, 0.03, 0.04, 0.05])\\\n",
    "                .build()"
   ]
  },
  {
   "cell_type": "code",
   "execution_count": 16,
   "id": "3575a425",
   "metadata": {},
   "outputs": [],
   "source": [
    "cross_val = CrossValidator(estimator=cv_pipeline,\n",
    "                           estimatorParamMaps=param_grid,\n",
    "                           evaluator=RegressionEvaluator(labelCol=\"total_amount\"),\n",
    "                           numFolds=5)"
   ]
  },
  {
   "cell_type": "code",
   "execution_count": 17,
   "id": "f68456da",
   "metadata": {},
   "outputs": [
    {
     "name": "stderr",
     "output_type": "stream",
     "text": [
      "Exception ignored in: <function JavaWrapper.__del__ at 0x7fa3dd951550>\n",
      "Traceback (most recent call last):\n",
      "  File \"/Users/keon/opt/anaconda3/lib/python3.8/site-packages/pyspark/ml/wrapper.py\", line 39, in __del__\n",
      "    if SparkContext._active_spark_context and self._java_obj is not None:\n",
      "AttributeError: 'LinearRegression' object has no attribute '_java_obj'\n"
     ]
    }
   ],
   "source": [
    "cv_model = cross_val.fit(toy_df)"
   ]
  },
  {
   "cell_type": "code",
   "execution_count": 21,
   "id": "493a7a7e",
   "metadata": {},
   "outputs": [],
   "source": [
    "alpha = cv_model.bestModel.stages[-1]._java_obj.getElasticNetParam()\n",
    "reg_param = cv_model.bestModel.stages[-1]._java_obj.getRegParam()"
   ]
  },
  {
   "cell_type": "markdown",
   "id": "118d509c",
   "metadata": {},
   "source": [
    "## Training"
   ]
  },
  {
   "cell_type": "code",
   "execution_count": 22,
   "id": "39b44e01",
   "metadata": {},
   "outputs": [],
   "source": [
    "transform_stages = stages\n",
    "pipeline = Pipeline(stages=transform_stages)\n",
    "fitted_transformer = pipeline.fit(train_df)"
   ]
  },
  {
   "cell_type": "code",
   "execution_count": 23,
   "id": "5d965a6d",
   "metadata": {},
   "outputs": [],
   "source": [
    "vtrain_df = fitted_transformer.transform(train_df)"
   ]
  },
  {
   "cell_type": "code",
   "execution_count": 24,
   "id": "450a8e37",
   "metadata": {},
   "outputs": [],
   "source": [
    "\n",
    "lr = LinearRegression(\n",
    "    maxIter=50,\n",
    "    solver=\"normal\",\n",
    "    labelCol=\"total_amount\",\n",
    "    featuresCol=\"feature_vector\",\n",
    "    elasticNetParam=alpha,\n",
    "    regParam=reg_param,\n",
    ")"
   ]
  },
  {
   "cell_type": "code",
   "execution_count": 25,
   "id": "4265a9b3",
   "metadata": {},
   "outputs": [
    {
     "name": "stdout",
     "output_type": "stream",
     "text": [
      "root\n",
      " |-- passenger_count: integer (nullable = true)\n",
      " |-- pickup_location_id: integer (nullable = true)\n",
      " |-- dropoff_location_id: integer (nullable = true)\n",
      " |-- trip_distance: double (nullable = true)\n",
      " |-- pickup_time: integer (nullable = true)\n",
      " |-- day_of_week: string (nullable = true)\n",
      " |-- total_amount: double (nullable = true)\n",
      " |-- pickup_location_id_idx: double (nullable = false)\n",
      " |-- pickup_location_id_onehot: vector (nullable = true)\n",
      " |-- dropoff_location_id_idx: double (nullable = false)\n",
      " |-- dropoff_location_id_onehot: vector (nullable = true)\n",
      " |-- day_of_week_idx: double (nullable = false)\n",
      " |-- day_of_week_onehot: vector (nullable = true)\n",
      " |-- passenger_count_vecotr: vector (nullable = true)\n",
      " |-- passenger_count_scaled: vector (nullable = true)\n",
      " |-- trip_distance_vecotr: vector (nullable = true)\n",
      " |-- trip_distance_scaled: vector (nullable = true)\n",
      " |-- pickup_time_vecotr: vector (nullable = true)\n",
      " |-- pickup_time_scaled: vector (nullable = true)\n",
      " |-- feature_vector: vector (nullable = true)\n",
      "\n"
     ]
    }
   ],
   "source": [
    "vtrain_df.printSchema()"
   ]
  },
  {
   "cell_type": "code",
   "execution_count": 26,
   "id": "f2d00f60",
   "metadata": {},
   "outputs": [],
   "source": [
    "model = lr.fit(vtrain_df)"
   ]
  },
  {
   "cell_type": "code",
   "execution_count": 27,
   "id": "9a95e8c3",
   "metadata": {},
   "outputs": [],
   "source": [
    "vtest_df = fitted_transformer.transform(test_df)"
   ]
  },
  {
   "cell_type": "code",
   "execution_count": 28,
   "id": "05b3df31",
   "metadata": {},
   "outputs": [],
   "source": [
    "predictions = model.transform(vtest_df)"
   ]
  },
  {
   "cell_type": "code",
   "execution_count": 29,
   "id": "61d0d5df",
   "metadata": {},
   "outputs": [
    {
     "data": {
      "text/plain": [
       "DataFrame[passenger_count: int, pickup_location_id: int, dropoff_location_id: int, trip_distance: double, pickup_time: int, day_of_week: string, total_amount: double, pickup_location_id_idx: double, pickup_location_id_onehot: vector, dropoff_location_id_idx: double, dropoff_location_id_onehot: vector, day_of_week_idx: double, day_of_week_onehot: vector, passenger_count_vecotr: vector, passenger_count_scaled: vector, trip_distance_vecotr: vector, trip_distance_scaled: vector, pickup_time_vecotr: vector, pickup_time_scaled: vector, feature_vector: vector, prediction: double]"
      ]
     },
     "execution_count": 29,
     "metadata": {},
     "output_type": "execute_result"
    }
   ],
   "source": [
    "predictions.cache()"
   ]
  },
  {
   "cell_type": "code",
   "execution_count": 30,
   "id": "2a7f4514",
   "metadata": {},
   "outputs": [
    {
     "name": "stdout",
     "output_type": "stream",
     "text": [
      "+-------------+-----------+------------+------------------+\n",
      "|trip_distance|day_of_week|total_amount|        prediction|\n",
      "+-------------+-----------+------------+------------------+\n",
      "|          3.1|   Saturday|       22.55| 18.44882896087039|\n",
      "|          7.9|   Saturday|        30.3|28.898380309569866|\n",
      "|          1.4|   Saturday|        16.0|13.635679102878225|\n",
      "|          1.1|    Tuesday|       12.95|14.050765065622219|\n",
      "|          0.7|   Saturday|         9.8|12.151950922741019|\n",
      "|          1.1|     Monday|        11.8|14.302981883348586|\n",
      "|          3.7|     Friday|       24.35|19.745504411653762|\n",
      "|          2.4|   Saturday|       14.75|16.012957291356248|\n",
      "|          3.4|   Saturday|       20.15|17.933430832644525|\n",
      "|          6.5|     Friday|       32.75|27.541169751290077|\n",
      "|          2.6|   Saturday|        17.8|16.614148948305857|\n",
      "|          0.2|   Saturday|        5.15| 7.565190314421683|\n",
      "|          0.9|     Sunday|         6.3| 9.491154409419867|\n",
      "|          9.9|   Saturday|       46.35|38.455267206674144|\n",
      "|          4.5|   Saturday|       22.85|15.766824456415733|\n",
      "|          0.6|    Tuesday|         4.8| 7.422348054207551|\n",
      "|          1.4|    Tuesday|        10.8|12.006766375046109|\n",
      "|          4.3|   Saturday|        20.3|19.040664139319205|\n",
      "|          3.9|   Thursday|        17.8|18.389827313235557|\n",
      "|          5.8|    Tuesday|        27.0|23.073838896480723|\n",
      "+-------------+-----------+------------+------------------+\n",
      "only showing top 20 rows\n",
      "\n"
     ]
    }
   ],
   "source": [
    "predictions.select([\"trip_distance\", \"day_of_week\", \"total_amount\", \"prediction\"]).show()"
   ]
  },
  {
   "cell_type": "code",
   "execution_count": 31,
   "id": "02f653ec",
   "metadata": {},
   "outputs": [
    {
     "data": {
      "text/plain": [
       "5.610492491836879"
      ]
     },
     "execution_count": 31,
     "metadata": {},
     "output_type": "execute_result"
    }
   ],
   "source": [
    "model.summary.rootMeanSquaredError"
   ]
  },
  {
   "cell_type": "code",
   "execution_count": 32,
   "id": "02803459",
   "metadata": {},
   "outputs": [
    {
     "data": {
      "text/plain": [
       "0.8108436137289087"
      ]
     },
     "execution_count": 32,
     "metadata": {},
     "output_type": "execute_result"
    }
   ],
   "source": [
    "model.summary.r2"
   ]
  },
  {
   "cell_type": "code",
   "execution_count": 42,
   "id": "dbfba244",
   "metadata": {},
   "outputs": [],
   "source": [
    "model_dir = \"/Users/keon/fastcampus/data-engineering/01-spark/data/model\"\n",
    "model.save(model_dir)"
   ]
  },
  {
   "cell_type": "code",
   "execution_count": 43,
   "id": "f15e53ee",
   "metadata": {},
   "outputs": [],
   "source": [
    "from pyspark.ml.regression import LinearRegressionModel"
   ]
  },
  {
   "cell_type": "code",
   "execution_count": 45,
   "id": "8407cc86",
   "metadata": {},
   "outputs": [],
   "source": [
    "lr_model = LinearRegressionModel().load(model_dir)"
   ]
  },
  {
   "cell_type": "code",
   "execution_count": 47,
   "id": "d5a1de06",
   "metadata": {},
   "outputs": [],
   "source": [
    "predictions = lr_model.transform(vtest_df)"
   ]
  },
  {
   "cell_type": "code",
   "execution_count": 48,
   "id": "84595076",
   "metadata": {},
   "outputs": [
    {
     "name": "stdout",
     "output_type": "stream",
     "text": [
      "+---------------+------------------+-------------------+-------------+-----------+-----------+------------+----------------------+-------------------------+-----------------------+--------------------------+---------------+------------------+----------------------+----------------------+--------------------+--------------------+------------------+--------------------+--------------------+------------------+\n",
      "|passenger_count|pickup_location_id|dropoff_location_id|trip_distance|pickup_time|day_of_week|total_amount|pickup_location_id_idx|pickup_location_id_onehot|dropoff_location_id_idx|dropoff_location_id_onehot|day_of_week_idx|day_of_week_onehot|passenger_count_vecotr|passenger_count_scaled|trip_distance_vecotr|trip_distance_scaled|pickup_time_vecotr|  pickup_time_scaled|      feature_vector|        prediction|\n",
      "+---------------+------------------+-------------------+-------------+-----------+-----------+------------+----------------------+-------------------------+-----------------------+--------------------------+---------------+------------------+----------------------+----------------------+--------------------+--------------------+------------------+--------------------+--------------------+------------------+\n",
      "|              0|                 4|                 68|          3.1|         22|   Saturday|       22.55|                  62.0|         (263,[62],[1.0])|                   15.0|          (261,[15],[1.0])|            4.0|     (7,[4],[1.0])|                 [0.0]|                 [0.0]|               [3.1]| [0.814141178161862]|            [22.0]| [4.297987291762796]|(534,[62,278,528,...| 18.44882896087039|\n",
      "|              0|                 4|                 75|          7.9|          1|   Saturday|        30.3|                  62.0|         (263,[62],[1.0])|                   19.0|          (261,[19],[1.0])|            4.0|     (7,[4],[1.0])|                 [0.0]|                 [0.0]|               [7.9]|[2.0747468733802292]|             [1.0]|[0.19536305871649...|(534,[62,282,528,...|28.898380309569866|\n",
      "|              0|                 4|                113|          1.4|         12|   Saturday|        16.0|                  62.0|         (263,[62],[1.0])|                   32.0|          (261,[32],[1.0])|            4.0|     (7,[4],[1.0])|                 [0.0]|                 [0.0]|               [1.4]| [0.367676661105357]|            [12.0]| [2.344356704597889]|(534,[62,295,528,...|13.635679102878225|\n",
      "|              0|                 4|                114|          1.1|         21|    Tuesday|       12.95|                  62.0|         (263,[62],[1.0])|                   37.0|          (261,[37],[1.0])|            3.0|     (7,[3],[1.0])|                 [0.0]|                 [0.0]|               [1.1]|[0.2888888051542091]|            [21.0]| [4.102624233046305]|(534,[62,300,527,...|14.050765065622219|\n",
      "|              0|                 4|                148|          0.7|          0|   Saturday|         9.8|                  62.0|         (263,[62],[1.0])|                   39.0|          (261,[39],[1.0])|            4.0|     (7,[4],[1.0])|                 [0.0]|                 [0.0]|               [0.7]|[0.1838383305526785]|             [0.0]|               [0.0]|(534,[62,302,528,...|12.151950922741019|\n",
      "|              0|                 4|                148|          1.1|         19|     Monday|        11.8|                  62.0|         (263,[62],[1.0])|                   39.0|          (261,[39],[1.0])|            5.0|     (7,[5],[1.0])|                 [0.0]|                 [0.0]|               [1.1]|[0.2888888051542091]|            [19.0]| [3.711898115613324]|(534,[62,302,529,...|14.302981883348586|\n",
      "|              0|                 4|                163|          3.7|          8|     Friday|       24.35|                  62.0|         (263,[62],[1.0])|                   14.0|          (261,[14],[1.0])|            0.0|     (7,[0],[1.0])|                 [0.0]|                 [0.0]|               [3.7]| [0.971716890064158]|             [8.0]|[1.5629044697319259]|(534,[62,277,524,...|19.745504411653762|\n",
      "|              0|                 4|                170|          2.4|         14|   Saturday|       14.75|                  62.0|         (263,[62],[1.0])|                    4.0|           (261,[4],[1.0])|            4.0|     (7,[4],[1.0])|                 [0.0]|                 [0.0]|               [2.4]|[0.6303028476091835]|            [14.0]|[2.7350828220308703]|(534,[62,267,528,...|16.012957291356248|\n",
      "|              0|                 4|                170|          3.4|          1|   Saturday|       20.15|                  62.0|         (263,[62],[1.0])|                    4.0|           (261,[4],[1.0])|            4.0|     (7,[4],[1.0])|                 [0.0]|                 [0.0]|               [3.4]|  [0.89292903411301]|             [1.0]|[0.19536305871649...|(534,[62,267,528,...|17.933430832644525|\n",
      "|              0|                 4|                179|          6.5|         23|     Friday|       32.75|                  62.0|         (263,[62],[1.0])|                   82.0|          (261,[82],[1.0])|            0.0|     (7,[0],[1.0])|                 [0.0]|                 [0.0]|               [6.5]| [1.707070212274872]|            [23.0]| [4.493350350479287]|(534,[62,345,524,...|27.541169751290077|\n",
      "|              0|                 4|                229|          2.6|         16|   Saturday|        17.8|                  62.0|         (263,[62],[1.0])|                   13.0|          (261,[13],[1.0])|            4.0|     (7,[4],[1.0])|                 [0.0]|                 [0.0]|               [2.6]|[0.6828280849099488]|            [16.0]|[3.1258089394638517]|(534,[62,276,528,...|16.614148948305857|\n",
      "|              0|                 7|                  7|          0.2|          1|   Saturday|        5.15|                  63.0|         (263,[63],[1.0])|                   57.0|          (261,[57],[1.0])|            4.0|     (7,[4],[1.0])|                 [0.0]|                 [0.0]|               [0.2]|[0.0525252373007653]|             [1.0]|[0.19536305871649...|(534,[63,320,528,...| 7.565190314421683|\n",
      "|              0|                 7|                  7|          0.9|         10|     Sunday|         6.3|                  63.0|         (263,[63],[1.0])|                   57.0|          (261,[57],[1.0])|            6.0|     (7,[6],[1.0])|                 [0.0]|                 [0.0]|               [0.9]|[0.2363635678534438]|            [10.0]|[1.9536305871649073]|(534,[63,320,530,...| 9.491154409419867|\n",
      "|              0|                 7|                 31|          9.9|         12|   Saturday|       46.35|                  63.0|         (263,[63],[1.0])|                  202.0|         (261,[202],[1.0])|            4.0|     (7,[4],[1.0])|                 [0.0]|                 [0.0]|               [9.9]| [2.599999246387882]|            [12.0]| [2.344356704597889]|(534,[63,465,528,...|38.455267206674144|\n",
      "|              0|                 7|                 70|          4.5|          9|   Saturday|       22.85|                  63.0|         (263,[63],[1.0])|                  112.0|         (261,[112],[1.0])|            4.0|     (7,[4],[1.0])|                 [0.0]|                 [0.0]|               [4.5]|[1.1818178392672192]|             [9.0]|[1.7582675284484166]|(534,[63,375,528,...|15.766824456415733|\n",
      "|              0|                 7|                193|          0.6|          7|    Tuesday|         4.8|                  63.0|         (263,[63],[1.0])|                  108.0|         (261,[108],[1.0])|            3.0|     (7,[3],[1.0])|                 [0.0]|                 [0.0]|               [0.6]|[0.15757571190229...|             [7.0]|[1.3675414110154351]|(534,[63,371,527,...| 7.422348054207551|\n",
      "|              0|                 7|                226|          1.4|         12|    Tuesday|        10.8|                  63.0|         (263,[63],[1.0])|                   67.0|          (261,[67],[1.0])|            3.0|     (7,[3],[1.0])|                 [0.0]|                 [0.0]|               [1.4]| [0.367676661105357]|            [12.0]| [2.344356704597889]|(534,[63,330,527,...|12.006766375046109|\n",
      "|              0|                 7|                229|          4.3|         17|   Saturday|        20.3|                  63.0|         (263,[63],[1.0])|                   13.0|          (261,[13],[1.0])|            4.0|     (7,[4],[1.0])|                 [0.0]|                 [0.0]|               [4.3]|[1.1292926019664538]|            [17.0]|[3.3211719981803425]|(534,[63,276,528,...|19.040664139319205|\n",
      "|              0|                 7|                233|          3.9|          8|   Thursday|        17.8|                  63.0|         (263,[63],[1.0])|                   27.0|          (261,[27],[1.0])|            1.0|     (7,[1],[1.0])|                 [0.0]|                 [0.0]|               [3.9]|[1.0242421273649231]|             [8.0]|[1.5629044697319259]|(534,[63,290,525,...|18.389827313235557|\n",
      "|              0|                 7|                238|          5.8|          6|    Tuesday|        27.0|                  63.0|         (263,[63],[1.0])|                    7.0|           (261,[7],[1.0])|            3.0|     (7,[3],[1.0])|                 [0.0]|                 [0.0]|               [5.8]|[1.5232318817221935]|             [6.0]|[1.1721783522989444]|(534,[63,270,527,...|23.073838896480723|\n",
      "+---------------+------------------+-------------------+-------------+-----------+-----------+------------+----------------------+-------------------------+-----------------------+--------------------------+---------------+------------------+----------------------+----------------------+--------------------+--------------------+------------------+--------------------+--------------------+------------------+\n",
      "only showing top 20 rows\n",
      "\n"
     ]
    }
   ],
   "source": [
    "predictions.show()"
   ]
  },
  {
   "cell_type": "code",
   "execution_count": null,
   "id": "8f0f5e3c",
   "metadata": {},
   "outputs": [],
   "source": []
  }
 ],
 "metadata": {
  "kernelspec": {
   "display_name": "Python 3",
   "language": "python",
   "name": "python3"
  },
  "language_info": {
   "codemirror_mode": {
    "name": "ipython",
    "version": 3
   },
   "file_extension": ".py",
   "mimetype": "text/x-python",
   "name": "python",
   "nbconvert_exporter": "python",
   "pygments_lexer": "ipython3",
   "version": "3.8.8"
  }
 },
 "nbformat": 4,
 "nbformat_minor": 5
}
