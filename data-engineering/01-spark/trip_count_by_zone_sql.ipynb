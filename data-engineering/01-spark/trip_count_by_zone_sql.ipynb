{
 "cells": [
  {
   "cell_type": "code",
   "execution_count": 1,
   "id": "9be00c22",
   "metadata": {},
   "outputs": [],
   "source": [
    "from pyspark.sql import SparkSession"
   ]
  },
  {
   "cell_type": "code",
   "execution_count": 2,
   "id": "67adac20",
   "metadata": {},
   "outputs": [],
   "source": [
    "spark = SparkSession.builder.appName(\"trip_count_by_zone_sql\").getOrCreate()"
   ]
  },
  {
   "cell_type": "code",
   "execution_count": 3,
   "id": "2fa431b8",
   "metadata": {},
   "outputs": [],
   "source": [
    "directory = \"/Users/keon/fastcampus/data-engineering/01-spark/data\"\n",
    "trip_file = \"fhvhv_tripdata_2020-03.csv\"\n",
    "zone_file = \"taxi+_zone_lookup.csv\""
   ]
  },
  {
   "cell_type": "code",
   "execution_count": 4,
   "id": "25268510",
   "metadata": {},
   "outputs": [],
   "source": [
    "trip_data = spark.read.csv(f\"file:///{directory}/{trip_file}\", inferSchema = True, header = True)\n",
    "zone_data = spark.read.csv(f\"file:///{directory}/{zone_file}\", inferSchema = True, header = True)"
   ]
  },
  {
   "cell_type": "code",
   "execution_count": 5,
   "id": "6b0c9dab",
   "metadata": {},
   "outputs": [
    {
     "name": "stdout",
     "output_type": "stream",
     "text": [
      "+-----------------+--------------------+-------------------+-------------------+------------+------------+-------+\n",
      "|hvfhs_license_num|dispatching_base_num|    pickup_datetime|   dropoff_datetime|PULocationID|DOLocationID|SR_Flag|\n",
      "+-----------------+--------------------+-------------------+-------------------+------------+------------+-------+\n",
      "|           HV0005|              B02510|2020-03-01 00:03:40|2020-03-01 00:23:39|          81|         159|   null|\n",
      "|           HV0005|              B02510|2020-03-01 00:28:05|2020-03-01 00:38:57|         168|         119|   null|\n",
      "|           HV0003|              B02764|2020-03-01 00:03:07|2020-03-01 00:15:04|         137|         209|      1|\n",
      "|           HV0003|              B02764|2020-03-01 00:18:42|2020-03-01 00:38:42|         209|          80|   null|\n",
      "|           HV0003|              B02764|2020-03-01 00:44:24|2020-03-01 00:58:44|         256|         226|   null|\n",
      "+-----------------+--------------------+-------------------+-------------------+------------+------------+-------+\n",
      "only showing top 5 rows\n",
      "\n"
     ]
    }
   ],
   "source": [
    "trip_data.show(5)"
   ]
  },
  {
   "cell_type": "code",
   "execution_count": 6,
   "id": "dfc651df",
   "metadata": {},
   "outputs": [
    {
     "name": "stdout",
     "output_type": "stream",
     "text": [
      "+----------+-------------+--------------------+------------+\n",
      "|LocationID|      Borough|                Zone|service_zone|\n",
      "+----------+-------------+--------------------+------------+\n",
      "|         1|          EWR|      Newark Airport|         EWR|\n",
      "|         2|       Queens|         Jamaica Bay|   Boro Zone|\n",
      "|         3|        Bronx|Allerton/Pelham G...|   Boro Zone|\n",
      "|         4|    Manhattan|       Alphabet City| Yellow Zone|\n",
      "|         5|Staten Island|       Arden Heights|   Boro Zone|\n",
      "+----------+-------------+--------------------+------------+\n",
      "only showing top 5 rows\n",
      "\n"
     ]
    }
   ],
   "source": [
    "zone_data.show(5)"
   ]
  },
  {
   "cell_type": "code",
   "execution_count": 7,
   "id": "2255f6fc",
   "metadata": {},
   "outputs": [],
   "source": [
    "trip_data.createOrReplaceTempView(\"trip_data\")\n",
    "zone_data.createOrReplaceTempView(\"zone_data\")"
   ]
  },
  {
   "cell_type": "code",
   "execution_count": 8,
   "id": "1bba6eef",
   "metadata": {},
   "outputs": [
    {
     "name": "stdout",
     "output_type": "stream",
     "text": [
      "+-----------------+--------------------+-------------------+-------------------+------------+------------+-------+\n",
      "|hvfhs_license_num|dispatching_base_num|    pickup_datetime|   dropoff_datetime|PULocationID|DOLocationID|SR_Flag|\n",
      "+-----------------+--------------------+-------------------+-------------------+------------+------------+-------+\n",
      "|           HV0005|              B02510|2020-03-01 00:03:40|2020-03-01 00:23:39|          81|         159|   null|\n",
      "|           HV0005|              B02510|2020-03-01 00:28:05|2020-03-01 00:38:57|         168|         119|   null|\n",
      "|           HV0003|              B02764|2020-03-01 00:03:07|2020-03-01 00:15:04|         137|         209|      1|\n",
      "|           HV0003|              B02764|2020-03-01 00:18:42|2020-03-01 00:38:42|         209|          80|   null|\n",
      "|           HV0003|              B02764|2020-03-01 00:44:24|2020-03-01 00:58:44|         256|         226|   null|\n",
      "+-----------------+--------------------+-------------------+-------------------+------------+------------+-------+\n",
      "\n"
     ]
    }
   ],
   "source": [
    "spark.sql(\"select * from trip_data limit 5\").show()"
   ]
  },
  {
   "cell_type": "code",
   "execution_count": 9,
   "id": "75a1459c",
   "metadata": {},
   "outputs": [
    {
     "name": "stdout",
     "output_type": "stream",
     "text": [
      "+----------+-------------+--------------------+------------+\n",
      "|LocationID|      Borough|                Zone|service_zone|\n",
      "+----------+-------------+--------------------+------------+\n",
      "|         1|          EWR|      Newark Airport|         EWR|\n",
      "|         2|       Queens|         Jamaica Bay|   Boro Zone|\n",
      "|         3|        Bronx|Allerton/Pelham G...|   Boro Zone|\n",
      "|         4|    Manhattan|       Alphabet City| Yellow Zone|\n",
      "|         5|Staten Island|       Arden Heights|   Boro Zone|\n",
      "+----------+-------------+--------------------+------------+\n",
      "\n"
     ]
    }
   ],
   "source": [
    "spark.sql(\"select * from zone_data limit 5\").show()"
   ]
  },
  {
   "cell_type": "code",
   "execution_count": 10,
   "id": "c34a8891",
   "metadata": {},
   "outputs": [
    {
     "name": "stdout",
     "output_type": "stream",
     "text": [
      "+-------------+-------+\n",
      "|      borough|  trips|\n",
      "+-------------+-------+\n",
      "|       Queens|2437383|\n",
      "|          EWR|    362|\n",
      "|      Unknown|    845|\n",
      "|     Brooklyn|3735764|\n",
      "|Staten Island| 178818|\n",
      "|    Manhattan|4953140|\n",
      "|        Bronx|2086592|\n",
      "+-------------+-------+\n",
      "\n"
     ]
    }
   ],
   "source": [
    "spark.sql(\"select borough, count(*) as trips from \\\n",
    "(select zone_data.Borough as borough \\\n",
    "from trip_data join zone_data on trip_data.PULocationID = zone_data.LocationID) \\\n",
    "group by borough\").show()"
   ]
  },
  {
   "cell_type": "code",
   "execution_count": 11,
   "id": "b24f0bdc",
   "metadata": {},
   "outputs": [
    {
     "name": "stdout",
     "output_type": "stream",
     "text": [
      "+-------------+-------+\n",
      "|      borough|  trips|\n",
      "+-------------+-------+\n",
      "|       Queens|2468408|\n",
      "|          EWR|  65066|\n",
      "|      Unknown| 387759|\n",
      "|     Brooklyn|3696682|\n",
      "|Staten Island| 177727|\n",
      "|    Manhattan|4553776|\n",
      "|        Bronx|2043486|\n",
      "+-------------+-------+\n",
      "\n"
     ]
    }
   ],
   "source": [
    "spark.sql(\"select borough, count(*) as trips from \\\n",
    "(select zone_data.Borough as borough \\\n",
    "from trip_data join zone_data on trip_data.DOLocationID = zone_data.LocationID) \\\n",
    "group by borough\").show()"
   ]
  },
  {
   "cell_type": "code",
   "execution_count": 12,
   "id": "a391a112",
   "metadata": {},
   "outputs": [
    {
     "name": "stdout",
     "output_type": "stream",
     "text": [
      "+--------------------+------+\n",
      "|                Zone| trips|\n",
      "+--------------------+------+\n",
      "| Crown Heights North|163091|\n",
      "|       East New York|134198|\n",
      "|         JFK Airport|114179|\n",
      "|        East Village|112017|\n",
      "|      Bushwick South|110150|\n",
      "|Central Harlem North|108070|\n",
      "|   LaGuardia Airport|104119|\n",
      "|Washington Height...| 97324|\n",
      "|Flatbush/Ditmas Park| 95724|\n",
      "|            Canarsie| 94484|\n",
      "|TriBeCa/Civic Center| 94155|\n",
      "|             Astoria| 92676|\n",
      "|             Bedford| 90352|\n",
      "|      Midtown Center| 90261|\n",
      "|  Stuyvesant Heights| 88749|\n",
      "|            Union Sq| 88372|\n",
      "|Times Sq/Theatre ...| 86870|\n",
      "|Prospect-Lefferts...| 84347|\n",
      "|         Brownsville| 82764|\n",
      "|Mott Haven/Port M...| 82396|\n",
      "+--------------------+------+\n",
      "only showing top 20 rows\n",
      "\n"
     ]
    }
   ],
   "source": [
    "spark.sql(\"SELECT zone_data.Zone, count(*) AS trips\\\n",
    " FROM trip_data JOIN zone_data ON trip_data.PULocationID = zone_data.LocationID \\\n",
    " WHERE trip_data.hvfhs_license_num = 'HV0003' \\\n",
    " GROUP BY zone_data.Zone order by trips desc\").show()"
   ]
  },
  {
   "cell_type": "code",
   "execution_count": 13,
   "id": "8b2681a0",
   "metadata": {},
   "outputs": [
    {
     "name": "stdout",
     "output_type": "stream",
     "text": [
      "== Parsed Logical Plan ==\n",
      "'Sort ['trips DESC NULLS LAST], true\n",
      "+- 'Aggregate ['zone_data.Zone], ['zone_data.Zone, 'count(1) AS trips#236]\n",
      "   +- 'Filter ('trip_data.hvfhs_license_num = HV0003)\n",
      "      +- 'Join Inner, ('trip_data.PULocationID = 'zone_data.LocationID)\n",
      "         :- 'UnresolvedRelation [trip_data], [], false\n",
      "         +- 'UnresolvedRelation [zone_data], [], false\n",
      "\n",
      "== Analyzed Logical Plan ==\n",
      "Zone: string, trips: bigint\n",
      "Sort [trips#236L DESC NULLS LAST], true\n",
      "+- Aggregate [Zone#48], [Zone#48, count(1) AS trips#236L]\n",
      "   +- Filter (hvfhs_license_num#16 = HV0003)\n",
      "      +- Join Inner, (PULocationID#20 = LocationID#46)\n",
      "         :- SubqueryAlias trip_data\n",
      "         :  +- View (`trip_data`, [hvfhs_license_num#16,dispatching_base_num#17,pickup_datetime#18,dropoff_datetime#19,PULocationID#20,DOLocationID#21,SR_Flag#22])\n",
      "         :     +- Relation [hvfhs_license_num#16,dispatching_base_num#17,pickup_datetime#18,dropoff_datetime#19,PULocationID#20,DOLocationID#21,SR_Flag#22] csv\n",
      "         +- SubqueryAlias zone_data\n",
      "            +- View (`zone_data`, [LocationID#46,Borough#47,Zone#48,service_zone#49])\n",
      "               +- Relation [LocationID#46,Borough#47,Zone#48,service_zone#49] csv\n",
      "\n",
      "== Optimized Logical Plan ==\n",
      "Sort [trips#236L DESC NULLS LAST], true\n",
      "+- Aggregate [Zone#48], [Zone#48, count(1) AS trips#236L]\n",
      "   +- Project [Zone#48]\n",
      "      +- Join Inner, (PULocationID#20 = LocationID#46)\n",
      "         :- Project [PULocationID#20]\n",
      "         :  +- Filter ((isnotnull(hvfhs_license_num#16) AND (hvfhs_license_num#16 = HV0003)) AND isnotnull(PULocationID#20))\n",
      "         :     +- Relation [hvfhs_license_num#16,dispatching_base_num#17,pickup_datetime#18,dropoff_datetime#19,PULocationID#20,DOLocationID#21,SR_Flag#22] csv\n",
      "         +- Project [LocationID#46, Zone#48]\n",
      "            +- Filter isnotnull(LocationID#46)\n",
      "               +- Relation [LocationID#46,Borough#47,Zone#48,service_zone#49] csv\n",
      "\n",
      "== Physical Plan ==\n",
      "AdaptiveSparkPlan isFinalPlan=false\n",
      "+- Sort [trips#236L DESC NULLS LAST], true, 0\n",
      "   +- Exchange rangepartitioning(trips#236L DESC NULLS LAST, 200), ENSURE_REQUIREMENTS, [id=#645]\n",
      "      +- HashAggregate(keys=[Zone#48], functions=[count(1)], output=[Zone#48, trips#236L])\n",
      "         +- Exchange hashpartitioning(Zone#48, 200), ENSURE_REQUIREMENTS, [id=#642]\n",
      "            +- HashAggregate(keys=[Zone#48], functions=[partial_count(1)], output=[Zone#48, count#241L])\n",
      "               +- Project [Zone#48]\n",
      "                  +- BroadcastHashJoin [PULocationID#20], [LocationID#46], Inner, BuildRight, false\n",
      "                     :- Project [PULocationID#20]\n",
      "                     :  +- Filter ((isnotnull(hvfhs_license_num#16) AND (hvfhs_license_num#16 = HV0003)) AND isnotnull(PULocationID#20))\n",
      "                     :     +- FileScan csv [hvfhs_license_num#16,PULocationID#20] Batched: false, DataFilters: [isnotnull(hvfhs_license_num#16), (hvfhs_license_num#16 = HV0003), isnotnull(PULocationID#20)], Format: CSV, Location: InMemoryFileIndex(1 paths)[file:/Users/keon/fastcampus/data-engineering/01-spark/data/fhvhv_tripd..., PartitionFilters: [], PushedFilters: [IsNotNull(hvfhs_license_num), EqualTo(hvfhs_license_num,HV0003), IsNotNull(PULocationID)], ReadSchema: struct<hvfhs_license_num:string,PULocationID:int>\n",
      "                     +- BroadcastExchange HashedRelationBroadcastMode(List(cast(input[0, int, false] as bigint)),false), [id=#637]\n",
      "                        +- Filter isnotnull(LocationID#46)\n",
      "                           +- FileScan csv [LocationID#46,Zone#48] Batched: false, DataFilters: [isnotnull(LocationID#46)], Format: CSV, Location: InMemoryFileIndex(1 paths)[file:/Users/keon/fastcampus/data-engineering/01-spark/data/taxi+_zone_..., PartitionFilters: [], PushedFilters: [IsNotNull(LocationID)], ReadSchema: struct<LocationID:int,Zone:string>\n",
      "\n"
     ]
    }
   ],
   "source": [
    "spark.sql(\"SELECT zone_data.Zone, count(*) AS trips\\\n",
    " FROM trip_data JOIN zone_data ON trip_data.PULocationID = zone_data.LocationID \\\n",
    " WHERE trip_data.hvfhs_license_num = 'HV0003' \\\n",
    " GROUP BY zone_data.Zone order by trips desc\").explain(True)"
   ]
  },
  {
   "cell_type": "code",
   "execution_count": null,
   "id": "324f135c",
   "metadata": {},
   "outputs": [],
   "source": []
  }
 ],
 "metadata": {
  "kernelspec": {
   "display_name": "Python 3",
   "language": "python",
   "name": "python3"
  },
  "language_info": {
   "codemirror_mode": {
    "name": "ipython",
    "version": 3
   },
   "file_extension": ".py",
   "mimetype": "text/x-python",
   "name": "python",
   "nbconvert_exporter": "python",
   "pygments_lexer": "ipython3",
   "version": "3.8.8"
  }
 },
 "nbformat": 4,
 "nbformat_minor": 5
}
