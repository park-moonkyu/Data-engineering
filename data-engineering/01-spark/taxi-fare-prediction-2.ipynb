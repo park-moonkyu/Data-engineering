{
 "cells": [
  {
   "cell_type": "code",
   "execution_count": 1,
   "id": "ecba548b",
   "metadata": {},
   "outputs": [],
   "source": [
    "from pyspark.sql import SparkSession"
   ]
  },
  {
   "cell_type": "code",
   "execution_count": 27,
   "id": "9f9d8597",
   "metadata": {},
   "outputs": [],
   "source": [
    "MAX_MEMORY = \"5g\"\n",
    "spark = SparkSession.builder.appName(\"taxi-duration-prediction-2\")\\\n",
    "            .config(\"spark.executor.memory\", MAX_MEMORY)\\\n",
    "            .config(\"spark.driver.memory\", MAX_MEMORY).getOrCreate()"
   ]
  },
  {
   "cell_type": "code",
   "execution_count": 28,
   "id": "2745af9a",
   "metadata": {},
   "outputs": [],
   "source": [
    "trip_files = \"/Users/keon/fastcampus/data-engineering/01-spark/data/trips/*\""
   ]
  },
  {
   "cell_type": "code",
   "execution_count": 29,
   "id": "701bee59",
   "metadata": {},
   "outputs": [],
   "source": [
    "trips_df = spark.read.csv(f\"file:///{trip_files}\", inferSchema=True, header=True)"
   ]
  },
  {
   "cell_type": "code",
   "execution_count": 30,
   "id": "9cb77c6b",
   "metadata": {},
   "outputs": [
    {
     "name": "stdout",
     "output_type": "stream",
     "text": [
      "root\n",
      " |-- VendorID: integer (nullable = true)\n",
      " |-- tpep_pickup_datetime: string (nullable = true)\n",
      " |-- tpep_dropoff_datetime: string (nullable = true)\n",
      " |-- passenger_count: integer (nullable = true)\n",
      " |-- trip_distance: double (nullable = true)\n",
      " |-- RatecodeID: integer (nullable = true)\n",
      " |-- store_and_fwd_flag: string (nullable = true)\n",
      " |-- PULocationID: integer (nullable = true)\n",
      " |-- DOLocationID: integer (nullable = true)\n",
      " |-- payment_type: integer (nullable = true)\n",
      " |-- fare_amount: double (nullable = true)\n",
      " |-- extra: double (nullable = true)\n",
      " |-- mta_tax: double (nullable = true)\n",
      " |-- tip_amount: double (nullable = true)\n",
      " |-- tolls_amount: double (nullable = true)\n",
      " |-- improvement_surcharge: double (nullable = true)\n",
      " |-- total_amount: double (nullable = true)\n",
      " |-- congestion_surcharge: double (nullable = true)\n",
      "\n"
     ]
    }
   ],
   "source": [
    "trips_df.printSchema()"
   ]
  },
  {
   "cell_type": "code",
   "execution_count": 31,
   "id": "ba52ea97",
   "metadata": {},
   "outputs": [],
   "source": [
    "trips_df.createOrReplaceTempView(\"trips\")"
   ]
  },
  {
   "cell_type": "code",
   "execution_count": 32,
   "id": "5c365bae",
   "metadata": {},
   "outputs": [],
   "source": [
    "query = \"\"\"\n",
    "SELECT\n",
    "    passenger_count,\n",
    "    PULocationID as pickup_location_id,\n",
    "    DOLocationID as dropoff_location_id,\n",
    "    trip_distance,\n",
    "    HOUR(tpep_pickup_datetime) as pickup_time,\n",
    "    DATE_FORMAT(TO_DATE(tpep_pickup_datetime), 'EEEE') AS day_of_week,\n",
    "    total_amount\n",
    "FROM\n",
    "    (SELECT\n",
    "        *,\n",
    "        TO_DATE(t.tpep_pickup_datetime) AS pickup_date\n",
    "    FROM\n",
    "        trips t)\n",
    "WHERE\n",
    "    total_amount < 5000\n",
    "    AND total_amount > 0\n",
    "    AND trip_distance > 0\n",
    "    AND trip_distance < 500\n",
    "    AND passenger_count < 4\n",
    "    AND pickup_date >= '2021-01-01'\n",
    "    AND pickup_date < '2021-08-01'\n",
    "\"\"\"\n",
    "data_df = spark.sql(query)\n",
    "data_df.createOrReplaceTempView(\"data\")"
   ]
  },
  {
   "cell_type": "code",
   "execution_count": 33,
   "id": "60163021",
   "metadata": {},
   "outputs": [
    {
     "name": "stdout",
     "output_type": "stream",
     "text": [
      "root\n",
      " |-- passenger_count: integer (nullable = true)\n",
      " |-- pickup_location_id: integer (nullable = true)\n",
      " |-- dropoff_location_id: integer (nullable = true)\n",
      " |-- trip_distance: double (nullable = true)\n",
      " |-- pickup_time: integer (nullable = true)\n",
      " |-- day_of_week: string (nullable = true)\n",
      " |-- total_amount: double (nullable = true)\n",
      "\n"
     ]
    }
   ],
   "source": [
    "data_df.printSchema()"
   ]
  },
  {
   "cell_type": "code",
   "execution_count": 34,
   "id": "c4023245",
   "metadata": {},
   "outputs": [
    {
     "name": "stdout",
     "output_type": "stream",
     "text": [
      "+-------+------------------+------------------+------------------+-----------+\n",
      "|summary|   passenger_count|     trip_distance|       pickup_time|day_of_week|\n",
      "+-------+------------------+------------------+------------------+-----------+\n",
      "|  count|          13126040|          13126040|          13126040|   13126040|\n",
      "|   mean|1.2114008489993935|2.8820930920521075|14.206110144415224|       null|\n",
      "| stddev|0.5424025151958388|3.8203064806711784|  5.11809582930429|       null|\n",
      "|    min|                 0|              0.01|                 0|     Friday|\n",
      "|    max|                 3|             475.5|                23|  Wednesday|\n",
      "+-------+------------------+------------------+------------------+-----------+\n",
      "\n"
     ]
    }
   ],
   "source": [
    "data_df.select([\"passenger_count\", \"trip_distance\", \"pickup_time\", \"day_of_week\"]).describe().show()"
   ]
  },
  {
   "cell_type": "code",
   "execution_count": 35,
   "id": "9e44e8b6",
   "metadata": {},
   "outputs": [
    {
     "name": "stdout",
     "output_type": "stream",
     "text": [
      "10500134\n",
      "2625906\n"
     ]
    }
   ],
   "source": [
    "train_df, test_df = data_df.randomSplit([0.8, 0.2], seed=1)\n",
    "print(train_df.count())\n",
    "print(test_df.count())"
   ]
  },
  {
   "cell_type": "code",
   "execution_count": 36,
   "id": "9eea2a6d",
   "metadata": {},
   "outputs": [],
   "source": [
    "toy_df = train_df.sample(False, .1, seed=261)"
   ]
  },
  {
   "cell_type": "code",
   "execution_count": 38,
   "id": "4264f9e1",
   "metadata": {},
   "outputs": [],
   "source": [
    "# 컬럼 기반 포멧 parquet로 저장.. 압축률이 좋고 disk io가 적다 컬럼별로 적절한 인코딩이 가능\n",
    "data_dir = \"/Users/keon/fastcampus/data-engineering/01-spark/data\"\n",
    "train_df.write.format(\"parquet\").save(f\"{data_dir}/train/\")\n",
    "test_df.write.format(\"parquet\").save(f\"{data_dir}/test/\")\n",
    "toy_df.write.format(\"parquet\").save(f\"{data_dir}/toy/\")"
   ]
  },
  {
   "cell_type": "code",
   "execution_count": 39,
   "id": "bb563660",
   "metadata": {},
   "outputs": [],
   "source": [
    "# 다시 읽어오기\n",
    "train_df = spark.read.parquet(f\"{data_dir}/train/\")\n",
    "test_df = spark.read.parquet(f\"{data_dir}/test/\")\n",
    "toy_df = spark.read.parquet(f\"{data_dir}/toy/\")"
   ]
  },
  {
   "cell_type": "code",
   "execution_count": 40,
   "id": "13a87656",
   "metadata": {},
   "outputs": [
    {
     "name": "stdout",
     "output_type": "stream",
     "text": [
      "root\n",
      " |-- passenger_count: integer (nullable = true)\n",
      " |-- pickup_location_id: integer (nullable = true)\n",
      " |-- dropoff_location_id: integer (nullable = true)\n",
      " |-- trip_distance: double (nullable = true)\n",
      " |-- pickup_time: integer (nullable = true)\n",
      " |-- day_of_week: string (nullable = true)\n",
      " |-- total_amount: double (nullable = true)\n",
      "\n"
     ]
    }
   ],
   "source": [
    "train_df.printSchema()"
   ]
  },
  {
   "cell_type": "code",
   "execution_count": 41,
   "id": "89ce77c7",
   "metadata": {},
   "outputs": [],
   "source": [
    "# One-Hot Encoding\n",
    "from pyspark.ml.feature import OneHotEncoder, StringIndexer\n",
    "\n",
    "# 카테고리 피쳐들\n",
    "cat_feats = [\n",
    "    \"pickup_location_id\",\n",
    "    \"dropoff_location_id\",\n",
    "    \"day_of_week\",\n",
    "    \"pickup_time\",\n",
    "]\n",
    "\n",
    "# 파이프라인 스테이지\n",
    "stages = []\n",
    "\n",
    "# 카테고리 피쳐 프리프로세싱\n",
    "for c in cat_feats:\n",
    "    # c -> c_idx\n",
    "    cat_indexer = StringIndexer(inputCol=c, outputCol = c + \"_idx\").setHandleInvalid(\"keep\")\n",
    "    # one hot encode \n",
    "    onehot_encoder = OneHotEncoder(inputCols=[cat_indexer.getOutputCol()], outputCols=[c + \"_onehot\"])\n",
    "    stages += [cat_indexer, onehot_encoder]"
   ]
  },
  {
   "cell_type": "code",
   "execution_count": 42,
   "id": "51a1a8f5",
   "metadata": {},
   "outputs": [],
   "source": [
    "# Feature Normalization\n",
    "from pyspark.ml.feature import VectorAssembler, StandardScaler\n",
    "\n",
    "# Numerical features\n",
    "num_feats = [\n",
    "    \"passenger_count\",\n",
    "    \"trip_distance\"\n",
    "]\n",
    "\n",
    "# vector assembler\n",
    "for n in num_feats:\n",
    "    num_assembler = VectorAssembler(inputCols=[n], outputCol=n+\"_vector\")\n",
    "    num_scaler = StandardScaler(inputCol=num_assembler.getOutputCol(), outputCol=n+\"_scaled\")\n",
    "    stages += [num_assembler, num_scaler]"
   ]
  },
  {
   "cell_type": "code",
   "execution_count": 43,
   "id": "6a25b3d6",
   "metadata": {},
   "outputs": [],
   "source": [
    "# Categorical + Numeric featurees\n",
    "assembler_inputs = [c + \"_onehot\" for c in cat_feats] + [n + \"_scaled\" for n in num_feats]\n",
    "assembler = VectorAssembler(inputCols=assembler_inputs, outputCol=\"feature_vector\")\n",
    "stages += [assembler]"
   ]
  },
  {
   "cell_type": "code",
   "execution_count": 44,
   "id": "f12cdfc8",
   "metadata": {},
   "outputs": [],
   "source": [
    "from pyspark.ml import Pipeline\n",
    "# add model into the stages\n",
    "transform_stages = stages\n",
    "\n",
    "# Construct pipeline using the set of stages defined\n",
    "pipeline =  Pipeline(stages=transform_stages)\n",
    "\n",
    "# Fit the transformer\n",
    "fitted_transformer = pipeline.fit(train_df)"
   ]
  },
  {
   "cell_type": "code",
   "execution_count": 45,
   "id": "f94e46f2",
   "metadata": {},
   "outputs": [],
   "source": [
    "# Transform the train data\n",
    "transformed_train_df = fitted_transformer.transform(train_df)\n",
    "# transformed_train_df = transformed_train_df.cache()"
   ]
  },
  {
   "cell_type": "code",
   "execution_count": 51,
   "id": "00dd87bb",
   "metadata": {},
   "outputs": [],
   "source": [
    "from pyspark.ml.regression import LinearRegression\n",
    "lr = LinearRegression(maxIter=100, \n",
    "                         solver=\"normal\", \n",
    "                         labelCol=\"total_amount\",\n",
    "                         featuresCol=\"feature_vector\",\n",
    "                        )"
   ]
  },
  {
   "cell_type": "code",
   "execution_count": 52,
   "id": "69c51934",
   "metadata": {},
   "outputs": [],
   "source": [
    "\n",
    "model = lr.fit(transformed_train_df)"
   ]
  },
  {
   "cell_type": "code",
   "execution_count": 53,
   "id": "7c457bea",
   "metadata": {},
   "outputs": [],
   "source": [
    "from pyspark.ml.evaluation import RegressionEvaluator"
   ]
  },
  {
   "cell_type": "code",
   "execution_count": 54,
   "id": "46aa3a3e",
   "metadata": {},
   "outputs": [],
   "source": [
    "transformed_test_df = fitted_transformer.transform(test_df)"
   ]
  },
  {
   "cell_type": "code",
   "execution_count": 55,
   "id": "327e1f6a",
   "metadata": {},
   "outputs": [],
   "source": [
    "predictions = model.transform(transformed_test_df).cache()"
   ]
  },
  {
   "cell_type": "code",
   "execution_count": 56,
   "id": "627c4ade",
   "metadata": {},
   "outputs": [
    {
     "name": "stdout",
     "output_type": "stream",
     "text": [
      "+---------------+------------------+-------------------+-------------+-----------+-----------+------------+----------------------+-------------------------+-----------------------+--------------------------+---------------+------------------+---------------+------------------+----------------------+----------------------+--------------------+--------------------+--------------------+------------------+\n",
      "|passenger_count|pickup_location_id|dropoff_location_id|trip_distance|pickup_time|day_of_week|total_amount|pickup_location_id_idx|pickup_location_id_onehot|dropoff_location_id_idx|dropoff_location_id_onehot|day_of_week_idx|day_of_week_onehot|pickup_time_idx|pickup_time_onehot|passenger_count_vector|passenger_count_scaled|trip_distance_vector|trip_distance_scaled|      feature_vector|        prediction|\n",
      "+---------------+------------------+-------------------+-------------+-----------+-----------+------------+----------------------+-------------------------+-----------------------+--------------------------+---------------+------------------+---------------+------------------+----------------------+----------------------+--------------------+--------------------+--------------------+------------------+\n",
      "|              0|                 4|                 68|          3.1|         22|   Saturday|       22.55|                  62.0|         (263,[62],[1.0])|                   15.0|          (261,[15],[1.0])|            4.0|     (7,[4],[1.0])|           14.0|   (24,[14],[1.0])|                 [0.0]|                 [0.0]|               [3.1]| [0.814141178161862]|(557,[62,278,528,...| 17.91176302457486|\n",
      "|              0|                 4|                 75|          7.9|          1|   Saturday|        30.3|                  62.0|         (263,[62],[1.0])|                   19.0|          (261,[19],[1.0])|            4.0|     (7,[4],[1.0])|           19.0|   (24,[19],[1.0])|                 [0.0]|                 [0.0]|               [7.9]|[2.0747468733802292]|(557,[62,282,528,...|29.270906883299844|\n",
      "|              0|                 4|                113|          1.4|         12|   Saturday|        16.0|                  62.0|         (263,[62],[1.0])|                   32.0|          (261,[32],[1.0])|            4.0|     (7,[4],[1.0])|            6.0|    (24,[6],[1.0])|                 [0.0]|                 [0.0]|               [1.4]| [0.367676661105357]|(557,[62,295,528,...| 13.70988339491881|\n",
      "|              0|                 4|                114|          1.1|         21|    Tuesday|       12.95|                  62.0|         (263,[62],[1.0])|                   37.0|          (261,[37],[1.0])|            3.0|     (7,[3],[1.0])|           13.0|   (24,[13],[1.0])|                 [0.0]|                 [0.0]|               [1.1]|[0.2888888051542091]|(557,[62,300,527,...|  13.5618643115419|\n",
      "|              0|                 4|                148|          0.7|          0|   Saturday|         9.8|                  62.0|         (263,[62],[1.0])|                   39.0|          (261,[39],[1.0])|            4.0|     (7,[4],[1.0])|           17.0|   (24,[17],[1.0])|                 [0.0]|                 [0.0]|               [0.7]|[0.1838383305526785]|(557,[62,302,528,...|12.591771429513205|\n",
      "|              0|                 4|                148|          1.1|         19|     Monday|        11.8|                  62.0|         (263,[62],[1.0])|                   39.0|          (261,[39],[1.0])|            5.0|     (7,[5],[1.0])|            7.0|    (24,[7],[1.0])|                 [0.0]|                 [0.0]|               [1.1]|[0.2888888051542091]|(557,[62,302,529,...| 14.38067577688663|\n",
      "|              0|                 4|                163|          3.7|          8|     Friday|       24.35|                  62.0|         (263,[62],[1.0])|                   14.0|          (261,[14],[1.0])|            0.0|     (7,[0],[1.0])|           12.0|   (24,[12],[1.0])|                 [0.0]|                 [0.0]|               [3.7]| [0.971716890064158]|(557,[62,277,524,...|19.796500462793176|\n",
      "|              0|                 4|                170|          2.4|         14|   Saturday|       14.75|                  62.0|         (263,[62],[1.0])|                    4.0|           (261,[4],[1.0])|            4.0|     (7,[4],[1.0])|            3.0|    (24,[3],[1.0])|                 [0.0]|                 [0.0]|               [2.4]|[0.6303028476091835]|(557,[62,267,528,...|16.245451142960597|\n",
      "|              0|                 4|                170|          3.4|          1|   Saturday|       20.15|                  62.0|         (263,[62],[1.0])|                    4.0|           (261,[4],[1.0])|            4.0|     (7,[4],[1.0])|           19.0|   (24,[19],[1.0])|                 [0.0]|                 [0.0]|               [3.4]|  [0.89292903411301]|(557,[62,267,528,...| 18.21290968756164|\n",
      "|              0|                 4|                179|          6.5|         23|     Friday|       32.75|                  62.0|         (263,[62],[1.0])|                   82.0|          (261,[82],[1.0])|            0.0|     (7,[0],[1.0])|           16.0|   (24,[16],[1.0])|                 [0.0]|                 [0.0]|               [6.5]| [1.707070212274872]|(557,[62,345,524,...| 26.76329662441113|\n",
      "|              0|                 4|                229|          2.6|         16|   Saturday|        17.8|                  62.0|         (263,[62],[1.0])|                   13.0|          (261,[13],[1.0])|            4.0|     (7,[4],[1.0])|            4.0|    (24,[4],[1.0])|                 [0.0]|                 [0.0]|               [2.6]|[0.6828280849099488]|(557,[62,276,528,...| 17.85786767511353|\n",
      "|              0|                 7|                  7|          0.2|          1|   Saturday|        5.15|                  63.0|         (263,[63],[1.0])|                   57.0|          (261,[57],[1.0])|            4.0|     (7,[4],[1.0])|           19.0|   (24,[19],[1.0])|                 [0.0]|                 [0.0]|               [0.2]|[0.0525252373007653]|(557,[63,320,528,...| 7.569232304463307|\n",
      "|              0|                 7|                  7|          0.9|         10|     Sunday|         6.3|                  63.0|         (263,[63],[1.0])|                   57.0|          (261,[57],[1.0])|            6.0|     (7,[6],[1.0])|            9.0|    (24,[9],[1.0])|                 [0.0]|                 [0.0]|               [0.9]|[0.2363635678534438]|(557,[63,320,530,...| 9.106037735421438|\n",
      "|              0|                 7|                 31|          9.9|         12|   Saturday|       46.35|                  63.0|         (263,[63],[1.0])|                  202.0|         (261,[202],[1.0])|            4.0|     (7,[4],[1.0])|            6.0|    (24,[6],[1.0])|                 [0.0]|                 [0.0]|               [9.9]| [2.599999246387882]|(557,[63,465,528,...| 38.90508831230749|\n",
      "|              0|                 7|                 70|          4.5|          9|   Saturday|       22.85|                  63.0|         (263,[63],[1.0])|                  112.0|         (261,[112],[1.0])|            4.0|     (7,[4],[1.0])|           11.0|   (24,[11],[1.0])|                 [0.0]|                 [0.0]|               [4.5]|[1.1818178392672192]|(557,[63,375,528,...|15.289253818212934|\n",
      "|              0|                 7|                193|          0.6|          7|    Tuesday|         4.8|                  63.0|         (263,[63],[1.0])|                  108.0|         (261,[108],[1.0])|            3.0|     (7,[3],[1.0])|           15.0|   (24,[15],[1.0])|                 [0.0]|                 [0.0]|               [0.6]|[0.15757571190229...|(557,[63,371,527,...| 6.447985428729879|\n",
      "|              0|                 7|                226|          1.4|         12|    Tuesday|        10.8|                  63.0|         (263,[63],[1.0])|                   67.0|          (261,[67],[1.0])|            3.0|     (7,[3],[1.0])|            6.0|    (24,[6],[1.0])|                 [0.0]|                 [0.0]|               [1.4]| [0.367676661105357]|(557,[63,330,527,...| 11.95386440089004|\n",
      "|              0|                 7|                229|          4.3|         17|   Saturday|        20.3|                  63.0|         (263,[63],[1.0])|                   13.0|          (261,[13],[1.0])|            4.0|     (7,[4],[1.0])|            2.0|    (24,[2],[1.0])|                 [0.0]|                 [0.0]|               [4.3]|[1.1292926019664538]|(557,[63,276,528,...|19.853299368039565|\n",
      "|              0|                 7|                233|          3.9|          8|   Thursday|        17.8|                  63.0|         (263,[63],[1.0])|                   27.0|          (261,[27],[1.0])|            1.0|     (7,[1],[1.0])|           12.0|   (24,[12],[1.0])|                 [0.0]|                 [0.0]|               [3.9]|[1.0242421273649231]|(557,[63,290,525,...|18.225249032372716|\n",
      "|              0|                 7|                238|          5.8|          6|    Tuesday|        27.0|                  63.0|         (263,[63],[1.0])|                    7.0|           (261,[7],[1.0])|            3.0|     (7,[3],[1.0])|           18.0|   (24,[18],[1.0])|                 [0.0]|                 [0.0]|               [5.8]|[1.5232318817221935]|(557,[63,270,527,...|21.729434461650676|\n",
      "+---------------+------------------+-------------------+-------------+-----------+-----------+------------+----------------------+-------------------------+-----------------------+--------------------------+---------------+------------------+---------------+------------------+----------------------+----------------------+--------------------+--------------------+--------------------+------------------+\n",
      "only showing top 20 rows\n",
      "\n"
     ]
    }
   ],
   "source": [
    "predictions.show()"
   ]
  },
  {
   "cell_type": "code",
   "execution_count": null,
   "id": "59e55bd7",
   "metadata": {},
   "outputs": [],
   "source": [
    "from pyspark.sql.types import DoubleType\n",
    "distance_list = [1.1, 5.5, 10.5, 30.0]\n",
    "distances_df = spark.createDataFrame(distance_list, DoubleType()).toDF(\"trip_distance\")"
   ]
  },
  {
   "cell_type": "code",
   "execution_count": null,
   "id": "8cc43781",
   "metadata": {},
   "outputs": [],
   "source": [
    "distances_df.show()"
   ]
  },
  {
   "cell_type": "code",
   "execution_count": null,
   "id": "9fd9f711",
   "metadata": {},
   "outputs": [],
   "source": [
    "vdistances_df = vassembler.transform(distances_df)"
   ]
  },
  {
   "cell_type": "code",
   "execution_count": null,
   "id": "170e874e",
   "metadata": {},
   "outputs": [],
   "source": [
    "vdistances_df.show()"
   ]
  },
  {
   "cell_type": "code",
   "execution_count": null,
   "id": "75e1ab0d",
   "metadata": {},
   "outputs": [],
   "source": [
    "model.transform(vdistances_df).show()"
   ]
  },
  {
   "cell_type": "markdown",
   "id": "fe3ccd89",
   "metadata": {},
   "source": [
    "# 성능 평가"
   ]
  },
  {
   "cell_type": "code",
   "execution_count": 57,
   "id": "859f2b7e",
   "metadata": {},
   "outputs": [
    {
     "data": {
      "text/plain": [
       "<pyspark.ml.regression.LinearRegressionTrainingSummary at 0x7fb9d54c47c0>"
      ]
     },
     "execution_count": 57,
     "metadata": {},
     "output_type": "execute_result"
    }
   ],
   "source": [
    "model.summary"
   ]
  },
  {
   "cell_type": "code",
   "execution_count": 58,
   "id": "ee6b0957",
   "metadata": {},
   "outputs": [
    {
     "name": "stdout",
     "output_type": "stream",
     "text": [
      "RMSE:  5.583560055498585\n"
     ]
    }
   ],
   "source": [
    "print(\"RMSE: \", model.summary.rootMeanSquaredError)"
   ]
  },
  {
   "cell_type": "code",
   "execution_count": 59,
   "id": "78e1580c",
   "metadata": {},
   "outputs": [
    {
     "name": "stdout",
     "output_type": "stream",
     "text": [
      "R2:  0.8126552959425991\n"
     ]
    }
   ],
   "source": [
    "print(\"R2: \", model.summary.r2)\n",
    "# R2:  0.018565176935511962"
   ]
  },
  {
   "cell_type": "code",
   "execution_count": 60,
   "id": "01dc1ed6",
   "metadata": {},
   "outputs": [
    {
     "name": "stdout",
     "output_type": "stream",
     "text": [
      "+-------+------------------+------------------+-------------------+------------------+-----------------+-----------+------------------+\n",
      "|summary|   passenger_count|pickup_location_id|dropoff_location_id|     trip_distance|      pickup_time|day_of_week|      total_amount|\n",
      "+-------+------------------+------------------+-------------------+------------------+-----------------+-----------+------------------+\n",
      "|  count|          10500134|          10500134|           10500134|          10500134|         10500134|   10500134|          10500134|\n",
      "|   mean|1.2113262554554065| 166.2091519974888| 163.70784829984075|2.8818981624425497|14.20592756244825|       null| 17.97347660814364|\n",
      "| stddev|0.5424053686238297| 65.92906003030252|  70.61811328008771| 3.807693411355345|5.118674976578861|       null|12.900023515121251|\n",
      "|    min|                 0|                 1|                  1|              0.01|                0|     Friday|              0.01|\n",
      "|    max|                 3|               265|                265|             475.5|               23|  Wednesday|            2292.4|\n",
      "+-------+------------------+------------------+-------------------+------------------+-----------------+-----------+------------------+\n",
      "\n"
     ]
    }
   ],
   "source": [
    "train_df.describe().show()"
   ]
  },
  {
   "cell_type": "code",
   "execution_count": null,
   "id": "d0bc1254",
   "metadata": {},
   "outputs": [],
   "source": []
  }
 ],
 "metadata": {
  "kernelspec": {
   "display_name": "Python 3",
   "language": "python",
   "name": "python3"
  },
  "language_info": {
   "codemirror_mode": {
    "name": "ipython",
    "version": 3
   },
   "file_extension": ".py",
   "mimetype": "text/x-python",
   "name": "python",
   "nbconvert_exporter": "python",
   "pygments_lexer": "ipython3",
   "version": "3.8.8"
  }
 },
 "nbformat": 4,
 "nbformat_minor": 5
}
