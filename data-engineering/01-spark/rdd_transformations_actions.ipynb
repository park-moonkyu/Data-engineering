{
 "cells": [
  {
   "cell_type": "code",
   "execution_count": 1,
   "id": "38df60d8",
   "metadata": {},
   "outputs": [],
   "source": [
    "from pyspark import SparkConf, SparkContext"
   ]
  },
  {
   "cell_type": "code",
   "execution_count": 2,
   "id": "04797cd1",
   "metadata": {},
   "outputs": [],
   "source": [
    "conf = SparkConf().setMaster(\"local\").setAppName(\"transformations_actions\")"
   ]
  },
  {
   "cell_type": "code",
   "execution_count": 3,
   "id": "3ad23c41",
   "metadata": {},
   "outputs": [],
   "source": [
    "sc = SparkContext(conf = conf)"
   ]
  },
  {
   "cell_type": "code",
   "execution_count": 4,
   "id": "db24a492",
   "metadata": {},
   "outputs": [
    {
     "data": {
      "text/plain": [
       "[('spark.master', 'local'),\n",
       " ('spark.driver.port', '51402'),\n",
       " ('spark.rdd.compress', 'True'),\n",
       " ('spark.serializer.objectStreamReset', '100'),\n",
       " ('spark.submit.pyFiles', ''),\n",
       " ('spark.app.startTime', '1636081026534'),\n",
       " ('spark.executor.id', 'driver'),\n",
       " ('spark.app.name', 'transformations_actions'),\n",
       " ('spark.submit.deployMode', 'client'),\n",
       " ('spark.driver.host', '172.30.1.34'),\n",
       " ('spark.app.id', 'local-1636081027829'),\n",
       " ('spark.ui.showConsoleProgress', 'true')]"
      ]
     },
     "execution_count": 4,
     "metadata": {},
     "output_type": "execute_result"
    }
   ],
   "source": [
    "sc.getConf().getAll()"
   ]
  },
  {
   "cell_type": "code",
   "execution_count": 5,
   "id": "8e60b28d",
   "metadata": {},
   "outputs": [],
   "source": [
    "sc.stop()"
   ]
  },
  {
   "cell_type": "code",
   "execution_count": 9,
   "id": "d931adcb",
   "metadata": {},
   "outputs": [],
   "source": [
    "sc = SparkContext(conf=conf)"
   ]
  },
  {
   "cell_type": "code",
   "execution_count": 10,
   "id": "00a8293e",
   "metadata": {},
   "outputs": [],
   "source": [
    "foods = sc.parallelize([\"짜장면\", \"마라탕\", \"짬뽕\", \"떡볶이\", \"쌀국수\", \"짬뽕\", \"짜장면\", \"짜장면\", \"짜장면\",  \"라면\", \"우동\", \"라면\"])"
   ]
  },
  {
   "cell_type": "code",
   "execution_count": 11,
   "id": "7455fac3",
   "metadata": {},
   "outputs": [
    {
     "data": {
      "text/plain": [
       "ParallelCollectionRDD[0] at readRDDFromFile at PythonRDD.scala:274"
      ]
     },
     "execution_count": 11,
     "metadata": {},
     "output_type": "execute_result"
    }
   ],
   "source": [
    "foods"
   ]
  },
  {
   "cell_type": "code",
   "execution_count": 12,
   "id": "5240c957",
   "metadata": {},
   "outputs": [
    {
     "data": {
      "text/plain": [
       "['짜장면', '마라탕', '짬뽕', '떡볶이', '쌀국수', '짬뽕', '짜장면', '짜장면', '짜장면', '라면', '우동', '라면']"
      ]
     },
     "execution_count": 12,
     "metadata": {},
     "output_type": "execute_result"
    }
   ],
   "source": [
    "foods.collect()"
   ]
  },
  {
   "cell_type": "code",
   "execution_count": 13,
   "id": "0c341c1e",
   "metadata": {},
   "outputs": [
    {
     "data": {
      "text/plain": [
       "defaultdict(int,\n",
       "            {'짜장면': 4,\n",
       "             '마라탕': 1,\n",
       "             '짬뽕': 2,\n",
       "             '떡볶이': 1,\n",
       "             '쌀국수': 1,\n",
       "             '라면': 2,\n",
       "             '우동': 1})"
      ]
     },
     "execution_count": 13,
     "metadata": {},
     "output_type": "execute_result"
    }
   ],
   "source": [
    "foods.countByValue()"
   ]
  },
  {
   "cell_type": "code",
   "execution_count": 14,
   "id": "ce4fa6c7",
   "metadata": {},
   "outputs": [
    {
     "data": {
      "text/plain": [
       "['짜장면', '마라탕', '짬뽕']"
      ]
     },
     "execution_count": 14,
     "metadata": {},
     "output_type": "execute_result"
    }
   ],
   "source": [
    "foods.take(3)"
   ]
  },
  {
   "cell_type": "code",
   "execution_count": 15,
   "id": "3bc9c028",
   "metadata": {},
   "outputs": [
    {
     "data": {
      "text/plain": [
       "['짜장면', '마라탕', '짬뽕', '떡볶이', '쌀국수']"
      ]
     },
     "execution_count": 15,
     "metadata": {},
     "output_type": "execute_result"
    }
   ],
   "source": [
    "foods.take(5)"
   ]
  },
  {
   "cell_type": "code",
   "execution_count": 16,
   "id": "6428c992",
   "metadata": {},
   "outputs": [
    {
     "data": {
      "text/plain": [
       "'짜장면'"
      ]
     },
     "execution_count": 16,
     "metadata": {},
     "output_type": "execute_result"
    }
   ],
   "source": [
    "foods.first()"
   ]
  },
  {
   "cell_type": "code",
   "execution_count": 17,
   "id": "2ce0b398",
   "metadata": {},
   "outputs": [
    {
     "data": {
      "text/plain": [
       "12"
      ]
     },
     "execution_count": 17,
     "metadata": {},
     "output_type": "execute_result"
    }
   ],
   "source": [
    "foods.count()"
   ]
  },
  {
   "cell_type": "code",
   "execution_count": 20,
   "id": "3992c9a1",
   "metadata": {},
   "outputs": [
    {
     "data": {
      "text/plain": [
       "7"
      ]
     },
     "execution_count": 20,
     "metadata": {},
     "output_type": "execute_result"
    }
   ],
   "source": [
    "foods.distinct().count()"
   ]
  },
  {
   "cell_type": "code",
   "execution_count": 21,
   "id": "3f7fb1fc",
   "metadata": {},
   "outputs": [],
   "source": [
    "# foreach"
   ]
  },
  {
   "cell_type": "code",
   "execution_count": 24,
   "id": "c05909c3",
   "metadata": {},
   "outputs": [],
   "source": [
    "foods.foreach(lambda x: print(x))"
   ]
  },
  {
   "cell_type": "code",
   "execution_count": null,
   "id": "5afee970",
   "metadata": {},
   "outputs": [],
   "source": []
  },
  {
   "cell_type": "code",
   "execution_count": 47,
   "id": "3fe6d6d4",
   "metadata": {},
   "outputs": [
    {
     "data": {
      "text/plain": [
       "[3, 4, 5]"
      ]
     },
     "execution_count": 47,
     "metadata": {},
     "output_type": "execute_result"
    }
   ],
   "source": [
    "sc.parallelize([1, 2, 3]).map(lambda x: x + 2).collect()"
   ]
  },
  {
   "cell_type": "code",
   "execution_count": 48,
   "id": "816d2125",
   "metadata": {},
   "outputs": [
    {
     "data": {
      "text/plain": [
       "[2, 4, 6]"
      ]
     },
     "execution_count": 48,
     "metadata": {},
     "output_type": "execute_result"
    }
   ],
   "source": [
    "sc.parallelize([1, 2, 3]).map(lambda x: x * 2).collect()"
   ]
  },
  {
   "cell_type": "code",
   "execution_count": 49,
   "id": "4bb873fe",
   "metadata": {},
   "outputs": [],
   "source": [
    "movies = [\n",
    "    \"그린 북\",\n",
    "    \"매트릭스\",\n",
    "    \"토이 스토리\",\n",
    "    \"캐스트 어웨이\",\n",
    "    \"포드 V 페라리\",\n",
    "    \"보헤미안 랩소디\",\n",
    "    \"빽 투 더 퓨처\",\n",
    "    \"반지의 제왕\",\n",
    "    \"죽은 시인의 사회\"\n",
    "]"
   ]
  },
  {
   "cell_type": "code",
   "execution_count": 50,
   "id": "63634df8",
   "metadata": {},
   "outputs": [],
   "source": [
    "moviesRDD = sc.parallelize(movies)"
   ]
  },
  {
   "cell_type": "code",
   "execution_count": 51,
   "id": "c0efa17b",
   "metadata": {},
   "outputs": [
    {
     "data": {
      "text/plain": [
       "['그린 북',\n",
       " '매트릭스',\n",
       " '토이 스토리',\n",
       " '캐스트 어웨이',\n",
       " '포드 V 페라리',\n",
       " '보헤미안 랩소디',\n",
       " '빽 투 더 퓨처',\n",
       " '반지의 제왕',\n",
       " '죽은 시인의 사회']"
      ]
     },
     "execution_count": 51,
     "metadata": {},
     "output_type": "execute_result"
    }
   ],
   "source": [
    "moviesRDD.collect()"
   ]
  },
  {
   "cell_type": "code",
   "execution_count": 52,
   "id": "df242a32",
   "metadata": {},
   "outputs": [],
   "source": [
    "flatMovies = moviesRDD.flatMap(lambda x: x.split(\" \"))"
   ]
  },
  {
   "cell_type": "code",
   "execution_count": 54,
   "id": "b6a42d4a",
   "metadata": {},
   "outputs": [
    {
     "data": {
      "text/plain": [
       "['그린',\n",
       " '북',\n",
       " '매트릭스',\n",
       " '토이',\n",
       " '스토리',\n",
       " '캐스트',\n",
       " '어웨이',\n",
       " '포드',\n",
       " 'V',\n",
       " '페라리',\n",
       " '보헤미안',\n",
       " '랩소디',\n",
       " '빽',\n",
       " '투',\n",
       " '더',\n",
       " '퓨처',\n",
       " '반지의',\n",
       " '제왕',\n",
       " '죽은',\n",
       " '시인의',\n",
       " '사회']"
      ]
     },
     "execution_count": 54,
     "metadata": {},
     "output_type": "execute_result"
    }
   ],
   "source": [
    "flatMovies.collect()"
   ]
  },
  {
   "cell_type": "code",
   "execution_count": 55,
   "id": "f583ebb3",
   "metadata": {},
   "outputs": [],
   "source": [
    "filteredMovies = flatMovies.filter(lambda x: x != \"매트릭스\")"
   ]
  },
  {
   "cell_type": "code",
   "execution_count": 56,
   "id": "756bd915",
   "metadata": {},
   "outputs": [
    {
     "data": {
      "text/plain": [
       "['그린',\n",
       " '북',\n",
       " '토이',\n",
       " '스토리',\n",
       " '캐스트',\n",
       " '어웨이',\n",
       " '포드',\n",
       " 'V',\n",
       " '페라리',\n",
       " '보헤미안',\n",
       " '랩소디',\n",
       " '빽',\n",
       " '투',\n",
       " '더',\n",
       " '퓨처',\n",
       " '반지의',\n",
       " '제왕',\n",
       " '죽은',\n",
       " '시인의',\n",
       " '사회']"
      ]
     },
     "execution_count": 56,
     "metadata": {},
     "output_type": "execute_result"
    }
   ],
   "source": [
    "filteredMovies.collect()"
   ]
  },
  {
   "cell_type": "code",
   "execution_count": 57,
   "id": "f7766f3d",
   "metadata": {},
   "outputs": [],
   "source": [
    "num1 = sc.parallelize([1, 2, 3, 4])\n",
    "num2 = sc.parallelize([4, 5, 6, 7, 8, 9, 10])"
   ]
  },
  {
   "cell_type": "code",
   "execution_count": 58,
   "id": "f215f82c",
   "metadata": {},
   "outputs": [
    {
     "data": {
      "text/plain": [
       "[4]"
      ]
     },
     "execution_count": 58,
     "metadata": {},
     "output_type": "execute_result"
    }
   ],
   "source": [
    "num1.intersection(num2).collect()"
   ]
  },
  {
   "cell_type": "code",
   "execution_count": 59,
   "id": "e873dde1",
   "metadata": {},
   "outputs": [
    {
     "data": {
      "text/plain": [
       "[1, 2, 3, 4, 4, 5, 6, 7, 8, 9, 10]"
      ]
     },
     "execution_count": 59,
     "metadata": {},
     "output_type": "execute_result"
    }
   ],
   "source": [
    "num1.union(num2).collect()"
   ]
  },
  {
   "cell_type": "code",
   "execution_count": 60,
   "id": "cdb7a725",
   "metadata": {},
   "outputs": [
    {
     "data": {
      "text/plain": [
       "[2, 1, 3]"
      ]
     },
     "execution_count": 60,
     "metadata": {},
     "output_type": "execute_result"
    }
   ],
   "source": [
    "num1.subtract(num2).collect()"
   ]
  },
  {
   "cell_type": "code",
   "execution_count": 61,
   "id": "943db360",
   "metadata": {},
   "outputs": [],
   "source": [
    "numUnion = num1.union(num2)"
   ]
  },
  {
   "cell_type": "code",
   "execution_count": 62,
   "id": "90e14785",
   "metadata": {},
   "outputs": [
    {
     "data": {
      "text/plain": [
       "[1, 2, 3, 4, 4, 5, 6, 7, 8, 9, 10]"
      ]
     },
     "execution_count": 62,
     "metadata": {},
     "output_type": "execute_result"
    }
   ],
   "source": [
    "numUnion.collect()"
   ]
  },
  {
   "cell_type": "code",
   "execution_count": 63,
   "id": "6a1641d3",
   "metadata": {},
   "outputs": [
    {
     "data": {
      "text/plain": [
       "[3, 4, 5, 6, 8, 9]"
      ]
     },
     "execution_count": 63,
     "metadata": {},
     "output_type": "execute_result"
    }
   ],
   "source": [
    "# numUnion.sample(T)\n",
    "# [1, 2, 3, 4, 4, 5, 6, 7, 8, 9, 10]\n",
    "numUnion.sample(True, .5).collect()\n"
   ]
  },
  {
   "cell_type": "code",
   "execution_count": 76,
   "id": "6291206b",
   "metadata": {},
   "outputs": [
    {
     "data": {
      "text/plain": [
       "[1, 4, 6, 9, 9, 10]"
      ]
     },
     "execution_count": 76,
     "metadata": {},
     "output_type": "execute_result"
    }
   ],
   "source": [
    "numUnion.sample(True, .5, seed=5).collect()\n"
   ]
  },
  {
   "cell_type": "code",
   "execution_count": 77,
   "id": "fcb8f425",
   "metadata": {},
   "outputs": [],
   "source": [
    "foods = sc.parallelize([\"짜장면\", \"마라탕\", \"짬뽕\", \"떡볶이\", \"쌀국수\", \"짬뽕\", \"짜장면\", \"짜장면\", \"짜장면\",  \"라면\", \"우동\", \"라면\", \"치킨\", \"돈까스\", \"회\", \"햄버거\", \"피자\"])"
   ]
  },
  {
   "cell_type": "code",
   "execution_count": 78,
   "id": "71481522",
   "metadata": {},
   "outputs": [],
   "source": [
    "# groupBy"
   ]
  },
  {
   "cell_type": "code",
   "execution_count": 79,
   "id": "56af66a1",
   "metadata": {},
   "outputs": [],
   "source": [
    "foodsGroup = foods.groupBy(lambda x: x[0])"
   ]
  },
  {
   "cell_type": "code",
   "execution_count": 81,
   "id": "9aca810d",
   "metadata": {},
   "outputs": [],
   "source": [
    "res = foodsGroup.collect()"
   ]
  },
  {
   "cell_type": "code",
   "execution_count": 84,
   "id": "d51ec0d0",
   "metadata": {},
   "outputs": [
    {
     "name": "stdout",
     "output_type": "stream",
     "text": [
      "짜 ['짜장면', '짜장면', '짜장면', '짜장면']\n",
      "마 ['마라탕']\n",
      "짬 ['짬뽕', '짬뽕']\n",
      "떡 ['떡볶이']\n",
      "쌀 ['쌀국수']\n",
      "라 ['라면', '라면']\n",
      "우 ['우동']\n",
      "치 ['치킨']\n",
      "돈 ['돈까스']\n",
      "회 ['회']\n",
      "햄 ['햄버거']\n",
      "피 ['피자']\n"
     ]
    }
   ],
   "source": [
    "for (k, v) in res:\n",
    "    print(k, list(v))"
   ]
  },
  {
   "cell_type": "code",
   "execution_count": 85,
   "id": "7a7dfd2c",
   "metadata": {},
   "outputs": [],
   "source": [
    "nums = sc.parallelize([1,2,3,4,5,6,7,8,9,10])"
   ]
  },
  {
   "cell_type": "code",
   "execution_count": 89,
   "id": "3c16ffb6",
   "metadata": {},
   "outputs": [
    {
     "data": {
      "text/plain": [
       "[2, 4, 6, 8, 10]"
      ]
     },
     "execution_count": 89,
     "metadata": {},
     "output_type": "execute_result"
    }
   ],
   "source": [
    "list(nums.groupBy(lambda x: x % 2).collect()[1][1])"
   ]
  },
  {
   "cell_type": "code",
   "execution_count": null,
   "id": "a22b5aa1",
   "metadata": {},
   "outputs": [],
   "source": []
  }
 ],
 "metadata": {
  "kernelspec": {
   "display_name": "Python 3",
   "language": "python",
   "name": "python3"
  },
  "language_info": {
   "codemirror_mode": {
    "name": "ipython",
    "version": 3
   },
   "file_extension": ".py",
   "mimetype": "text/x-python",
   "name": "python",
   "nbconvert_exporter": "python",
   "pygments_lexer": "ipython3",
   "version": "3.8.8"
  }
 },
 "nbformat": 4,
 "nbformat_minor": 5
}
